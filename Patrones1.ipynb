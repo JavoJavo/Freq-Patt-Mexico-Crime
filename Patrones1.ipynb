{
  "nbformat": 4,
  "nbformat_minor": 0,
  "metadata": {
    "colab": {
      "name": "Patrones1.ipynb",
      "provenance": [],
      "toc_visible": true
    },
    "kernelspec": {
      "name": "python3",
      "display_name": "Python 3"
    }
  },
  "cells": [
    {
      "cell_type": "code",
      "metadata": {
        "id": "ZX1_dByXbETZ"
      },
      "source": [
        "import pandas as pd\r\n",
        "import numpy as np\r\n",
        "import mlxtend as mlx\r\n",
        "import mlxtend.preprocessing as mlp\r\n",
        "import mlxtend.frequent_patterns as FP\r\n",
        "from mlxtend.frequent_patterns import association_rules\r\n",
        "import matplotlib.pyplot as plt"
      ],
      "execution_count": 1,
      "outputs": []
    },
    {
      "cell_type": "markdown",
      "metadata": {
        "id": "v8cyO47qenHe"
      },
      "source": [
        "## Analisis de todos los delitos, dividiendo el dia en diferentes partes"
      ]
    },
    {
      "cell_type": "markdown",
      "metadata": {
        "id": "ILfukG9xetOm"
      },
      "source": [
        "Cargar los datos"
      ]
    },
    {
      "cell_type": "code",
      "metadata": {
        "id": "NYEGEisFbL9_"
      },
      "source": [
        "data = pd.read_csv('/content/drive/MyDrive/csv/carpetas-de-investigacion-pgj-cdmx.csv',na_values='NaN')\r\n",
        "data = data.drop(columns=['año_hechos','mes_hechos','categoria_delito',\r\n",
        "                        'Geopoint','calle_hechos2','calle_hechos',\r\n",
        "                        'colonia_hechos','mes_inicio','ao_inicio','fiscalía','agencia',\r\n",
        "                        'unidad_investigacion',])\r\n",
        "data.fecha_hechos = pd.to_datetime(data.fecha_hechos)\r\n",
        "data.fecha_inicio = pd.to_datetime(data.fecha_inicio)\r\n",
        "data.rename(columns={'longitud':'lon','latitud':'lat'}, inplace=True)"
      ],
      "execution_count": 2,
      "outputs": []
    },
    {
      "cell_type": "markdown",
      "metadata": {
        "id": "qsxYxzc9ev8b"
      },
      "source": [
        "#creamos clases de apoyo para facilitar el proyecto"
      ]
    },
    {
      "cell_type": "code",
      "metadata": {
        "id": "K6vCxQSYbMM2"
      },
      "source": [
        "class experimentoDiaNoche():\r\n",
        "    def __init__(self,ex1):\r\n",
        "        delitos = ex1.delito\r\n",
        "        alcaldia = ex1.alcaldia_hechos\r\n",
        "        hora_hechos = [ex1.fecha_hechos[i].hour for i in range(ex1.shape[0])]\r\n",
        "        print('Hora hechos')\r\n",
        "        hora_arr1 = []\r\n",
        "        for hora in hora_hechos:\r\n",
        "            if hora in range(0,12):\r\n",
        "                hora_arr1.append('dia')\r\n",
        "            else:\r\n",
        "                hora_arr1.append('noche')\r\n",
        "        tiempo_denuncia = ex1.fecha_inicio - ex1.fecha_hechos \r\n",
        "        tiempo_denuncia_arr1 = []\r\n",
        "        for diffe in tiempo_denuncia:\r\n",
        "            dias = diffe.days\r\n",
        "            if dias <= 1:\r\n",
        "                tiempo_denuncia_arr1.append('dia')\r\n",
        "            elif dias <= 7:\r\n",
        "                tiempo_denuncia_arr1.append('sem')\r\n",
        "            elif dias <= 30:\r\n",
        "                tiempo_denuncia_arr1.append('mes')\r\n",
        "            else:\r\n",
        "                tiempo_denuncia_arr1.append('inf')\r\n",
        "        print('Tiempo denuncia')\r\n",
        "        experimento1 = pd.DataFrame(\r\n",
        "                                        {'delitos': delitos,\r\n",
        "                                        'alcaldia': alcaldia,\r\n",
        "                                        'hora': hora_arr1,\r\n",
        "                                        'tden':tiempo_denuncia_arr1\r\n",
        "                                        })\r\n",
        "        self.experimento1 = pd.get_dummies(experimento1, \r\n",
        "                        columns=experimento1.columns,\r\n",
        "                        dtype = bool) \r\n",
        "        print('Dummies') \r\n",
        "        \r\n",
        "    \r\n",
        "    def patrones_umbral(self,u):\r\n",
        "         perfilesFrec = FP.apriori(self.experimento1, min_support=u,use_colnames=True)\r\n",
        "         return perfilesFrec"
      ],
      "execution_count": 3,
      "outputs": []
    },
    {
      "cell_type": "code",
      "metadata": {
        "id": "Um-u5Lt1bRQn"
      },
      "source": [
        "class experimentoDiaTardeNoche():\r\n",
        "    def __init__(self,ex1):\r\n",
        "        delitos = ex1.delito\r\n",
        "        alcaldia = ex1.alcaldia_hechos\r\n",
        "        hora_hechos = [ex1.fecha_hechos[i].hour for i in range(ex1.shape[0])]\r\n",
        "        print('Hora hechos')\r\n",
        "        hora_arr1 = []\r\n",
        "        for hora in hora_hechos:\r\n",
        "            if hora in range(0,8):\r\n",
        "                hora_arr1.append('dia')\r\n",
        "            elif hora in range(8,16):\r\n",
        "                hora_arr1.append('tarde')\r\n",
        "            else:\r\n",
        "                hora_arr1.append('noche')\r\n",
        "        tiempo_denuncia = ex1.fecha_inicio - ex1.fecha_hechos \r\n",
        "        tiempo_denuncia_arr1 = []\r\n",
        "        for diffe in tiempo_denuncia:\r\n",
        "            dias = diffe.days\r\n",
        "            if dias <= 1:\r\n",
        "                tiempo_denuncia_arr1.append('dia')\r\n",
        "            elif dias <= 7:\r\n",
        "                tiempo_denuncia_arr1.append('sem')\r\n",
        "            elif dias <= 30:\r\n",
        "                tiempo_denuncia_arr1.append('mes')\r\n",
        "            else:\r\n",
        "                tiempo_denuncia_arr1.append('inf')\r\n",
        "        print('Tiempo denuncia')\r\n",
        "        experimento1 = pd.DataFrame(\r\n",
        "                                        {'delitos': delitos,\r\n",
        "                                        'alcaldia': alcaldia,\r\n",
        "                                        'hora': hora_arr1,\r\n",
        "                                        'tden':tiempo_denuncia_arr1\r\n",
        "                                        })\r\n",
        "        self.experimento1 = pd.get_dummies(experimento1, \r\n",
        "                        columns=experimento1.columns,\r\n",
        "                        dtype = bool) \r\n",
        "        print('Dummies') \r\n",
        "        \r\n",
        "    \r\n",
        "    def patrones_umbral(self,u):\r\n",
        "         perfilesFrec = FP.apriori(self.experimento1, min_support=u,use_colnames=True)\r\n",
        "         return perfilesFrec"
      ],
      "execution_count": 4,
      "outputs": []
    },
    {
      "cell_type": "markdown",
      "metadata": {
        "id": "9Ho5x94AbbRq"
      },
      "source": [
        "Cargar datos para los experimentos"
      ]
    },
    {
      "cell_type": "code",
      "metadata": {
        "colab": {
          "base_uri": "https://localhost:8080/"
        },
        "id": "OeAngOftbUFw",
        "outputId": "c2df693f-a812-426e-966a-51e2c1dc5d64"
      },
      "source": [
        "ex1 = experimentoDiaNoche(data)"
      ],
      "execution_count": 5,
      "outputs": [
        {
          "output_type": "stream",
          "text": [
            "Hora hechos\n",
            "Tiempo denuncia\n",
            "Dummies\n"
          ],
          "name": "stdout"
        }
      ]
    },
    {
      "cell_type": "code",
      "metadata": {
        "colab": {
          "base_uri": "https://localhost:8080/"
        },
        "id": "VfNcSSGcbUQy",
        "outputId": "692c9278-b4aa-4514-84aa-eca5a21e3cab"
      },
      "source": [
        "ex1_1=experimentoDiaTardeNoche(data)"
      ],
      "execution_count": 6,
      "outputs": [
        {
          "output_type": "stream",
          "text": [
            "Hora hechos\n",
            "Tiempo denuncia\n",
            "Dummies\n"
          ],
          "name": "stdout"
        }
      ]
    },
    {
      "cell_type": "markdown",
      "metadata": {
        "id": "xHs3-JPzh0qs"
      },
      "source": [
        "Hacemos las graficas de umbral-patrones encontrados para los dos experimentos, esto con el fin de ayudarnos a escoger el umbral correcto"
      ]
    },
    {
      "cell_type": "code",
      "metadata": {
        "id": "B7QJt87sh_Fq"
      },
      "source": [
        ""
      ],
      "execution_count": null,
      "outputs": []
    },
    {
      "cell_type": "markdown",
      "metadata": {
        "id": "mFb4cHijbgPt"
      },
      "source": [
        "Obtener los patrones frecuentes"
      ]
    },
    {
      "cell_type": "code",
      "metadata": {
        "colab": {
          "base_uri": "https://localhost:8080/"
        },
        "id": "N1YhXEALfjnV",
        "outputId": "595c28b4-e40c-4fd3-967b-55dded376e08"
      },
      "source": [
        "patrones = ex1.patrones_umbral(0.06)\r\n",
        "patrones['casos'] = patrones['support']*800000\r\n",
        "patrones['support'] = patrones['support']*100\r\n",
        "print(patrones)"
      ],
      "execution_count": 7,
      "outputs": [
        {
          "output_type": "stream",
          "text": [
            "      support                                 itemsets          casos\n",
            "0    6.357750   (delitos_ROBO A NEGOCIO SIN VIOLENCIA)   50862.003954\n",
            "1    6.455170                (delitos_ROBO DE OBJETOS)   51641.361849\n",
            "2    8.594325             (delitos_VIOLENCIA FAMILIAR)   68754.597457\n",
            "3    6.498935                (alcaldia_ALVARO OBREGON)   51991.479482\n",
            "4    8.728091                 (alcaldia_BENITO JUAREZ)   69824.731014\n",
            "5    6.705025                      (alcaldia_COYOACAN)   53640.197263\n",
            "6   16.244494                    (alcaldia_CUAUHTEMOC)  129955.950949\n",
            "7    9.902321              (alcaldia_GUSTAVO A MADERO)   79218.565136\n",
            "8   14.826344                    (alcaldia_IZTAPALAPA)  118610.754991\n",
            "9    6.637400                (alcaldia_MIGUEL HIDALGO)   53099.196287\n",
            "10  34.976653                               (hora_dia)  279813.221144\n",
            "11  65.023347                             (hora_noche)  520186.778856\n",
            "12  59.020289                               (tden_dia)  472162.310183\n",
            "13  15.738233                               (tden_inf)  125905.861380\n",
            "14  10.161447                               (tden_mes)   81291.578014\n",
            "15  15.080031                               (tden_sem)  120640.250423\n",
            "16  10.733603        (alcaldia_CUAUHTEMOC, hora_noche)   85868.822099\n",
            "17   8.891529          (alcaldia_CUAUHTEMOC, tden_dia)   71132.232457\n",
            "18   6.407820  (hora_noche, alcaldia_GUSTAVO A MADERO)   51262.562263\n",
            "19   6.238078    (tden_dia, alcaldia_GUSTAVO A MADERO)   49904.620143\n",
            "20   9.478644        (alcaldia_IZTAPALAPA, hora_noche)   75829.149518\n",
            "21   9.259573          (alcaldia_IZTAPALAPA, tden_dia)   74076.583287\n",
            "22  21.273231                     (hora_dia, tden_dia)  170185.851638\n",
            "23  37.747057                   (hora_noche, tden_dia)  301976.458545\n",
            "24  10.735952                   (hora_noche, tden_inf)   85887.613723\n",
            "25   6.722951                   (hora_noche, tden_mes)   53783.607028\n",
            "26   9.817387                   (hora_noche, tden_sem)   78539.099560\n"
          ],
          "name": "stdout"
        }
      ]
    },
    {
      "cell_type": "code",
      "metadata": {
        "colab": {
          "base_uri": "https://localhost:8080/"
        },
        "id": "swD2YVEfbjGz",
        "outputId": "f28123d3-31d3-4256-a69a-44b72f7de8b7"
      },
      "source": [
        "patrones1 = ex1_1.patrones_umbral(0.06)\r\n",
        "patrones1['casos'] = patrones1['support']*800000\r\n",
        "patrones1['support'] = patrones1['support']*100\r\n",
        "print(patrones1)"
      ],
      "execution_count": 8,
      "outputs": [
        {
          "output_type": "stream",
          "text": [
            "      support                                itemsets          casos\n",
            "0    6.357750  (delitos_ROBO A NEGOCIO SIN VIOLENCIA)   50862.003954\n",
            "1    6.455170               (delitos_ROBO DE OBJETOS)   51641.361849\n",
            "2    8.594325            (delitos_VIOLENCIA FAMILIAR)   68754.597457\n",
            "3    6.498935               (alcaldia_ALVARO OBREGON)   51991.479482\n",
            "4    8.728091                (alcaldia_BENITO JUAREZ)   69824.731014\n",
            "5    6.705025                     (alcaldia_COYOACAN)   53640.197263\n",
            "6   16.244494                   (alcaldia_CUAUHTEMOC)  129955.950949\n",
            "7    9.902321             (alcaldia_GUSTAVO A MADERO)   79218.565136\n",
            "8   14.826344                   (alcaldia_IZTAPALAPA)  118610.754991\n",
            "9    6.637400               (alcaldia_MIGUEL HIDALGO)   53099.196287\n",
            "10  15.250269                              (hora_dia)  122002.148674\n",
            "11  36.436960                            (hora_noche)  291495.677308\n",
            "12  48.312772                            (hora_tarde)  386502.174018\n",
            "13  59.020289                              (tden_dia)  472162.310183\n",
            "14  15.738233                              (tden_inf)  125905.861380\n",
            "15  10.161447                              (tden_mes)   81291.578014\n",
            "16  15.080031                              (tden_sem)  120640.250423\n",
            "17   8.821060       (alcaldia_CUAUHTEMOC, hora_tarde)   70568.483726\n",
            "18   8.891529         (alcaldia_CUAUHTEMOC, tden_dia)   71132.232457\n",
            "19   6.238078   (tden_dia, alcaldia_GUSTAVO A MADERO)   49904.620143\n",
            "20   6.593388       (alcaldia_IZTAPALAPA, hora_tarde)   52747.100588\n",
            "21   9.259573         (alcaldia_IZTAPALAPA, tden_dia)   74076.583287\n",
            "22  10.365188                    (hora_dia, tden_dia)   82921.504171\n",
            "23  24.142539                  (hora_noche, tden_dia)  193140.315328\n",
            "24  24.512561                  (tden_dia, hora_tarde)  196100.490684\n",
            "25  10.878249                  (hora_tarde, tden_inf)   87025.990547\n",
            "26   7.209802                  (tden_sem, hora_tarde)   57678.418438\n"
          ],
          "name": "stdout"
        }
      ]
    },
    {
      "cell_type": "markdown",
      "metadata": {
        "id": "A5V6Fuk4e78K"
      },
      "source": [
        "Obtenemos las reglas de asosiacion"
      ]
    },
    {
      "cell_type": "code",
      "metadata": {
        "colab": {
          "base_uri": "https://localhost:8080/",
          "height": 421
        },
        "id": "MCxzhYVef3_X",
        "outputId": "4f25fc40-084b-4853-953f-539cafc399e5"
      },
      "source": [
        "reglas=association_rules(ex1.patrones_umbral(.06), metric=\"confidence\", min_threshold=0.5)\r\n",
        "reglas = reglas.drop(columns=['antecedent support','consequent support','support','lift','leverage','conviction'])\r\n",
        "reglas['confidence'] = reglas['confidence']*100\r\n",
        "reglas"
      ],
      "execution_count": 9,
      "outputs": [
        {
          "output_type": "execute_result",
          "data": {
            "text/html": [
              "<div>\n",
              "<style scoped>\n",
              "    .dataframe tbody tr th:only-of-type {\n",
              "        vertical-align: middle;\n",
              "    }\n",
              "\n",
              "    .dataframe tbody tr th {\n",
              "        vertical-align: top;\n",
              "    }\n",
              "\n",
              "    .dataframe thead th {\n",
              "        text-align: right;\n",
              "    }\n",
              "</style>\n",
              "<table border=\"1\" class=\"dataframe\">\n",
              "  <thead>\n",
              "    <tr style=\"text-align: right;\">\n",
              "      <th></th>\n",
              "      <th>antecedents</th>\n",
              "      <th>consequents</th>\n",
              "      <th>confidence</th>\n",
              "    </tr>\n",
              "  </thead>\n",
              "  <tbody>\n",
              "    <tr>\n",
              "      <th>0</th>\n",
              "      <td>(alcaldia_CUAUHTEMOC)</td>\n",
              "      <td>(hora_noche)</td>\n",
              "      <td>66.075329</td>\n",
              "    </tr>\n",
              "    <tr>\n",
              "      <th>1</th>\n",
              "      <td>(alcaldia_CUAUHTEMOC)</td>\n",
              "      <td>(tden_dia)</td>\n",
              "      <td>54.735648</td>\n",
              "    </tr>\n",
              "    <tr>\n",
              "      <th>2</th>\n",
              "      <td>(alcaldia_GUSTAVO A MADERO)</td>\n",
              "      <td>(hora_noche)</td>\n",
              "      <td>64.710289</td>\n",
              "    </tr>\n",
              "    <tr>\n",
              "      <th>3</th>\n",
              "      <td>(alcaldia_GUSTAVO A MADERO)</td>\n",
              "      <td>(tden_dia)</td>\n",
              "      <td>62.996117</td>\n",
              "    </tr>\n",
              "    <tr>\n",
              "      <th>4</th>\n",
              "      <td>(alcaldia_IZTAPALAPA)</td>\n",
              "      <td>(hora_noche)</td>\n",
              "      <td>63.931091</td>\n",
              "    </tr>\n",
              "    <tr>\n",
              "      <th>5</th>\n",
              "      <td>(alcaldia_IZTAPALAPA)</td>\n",
              "      <td>(tden_dia)</td>\n",
              "      <td>62.453513</td>\n",
              "    </tr>\n",
              "    <tr>\n",
              "      <th>6</th>\n",
              "      <td>(hora_dia)</td>\n",
              "      <td>(tden_dia)</td>\n",
              "      <td>60.821233</td>\n",
              "    </tr>\n",
              "    <tr>\n",
              "      <th>7</th>\n",
              "      <td>(hora_noche)</td>\n",
              "      <td>(tden_dia)</td>\n",
              "      <td>58.051544</td>\n",
              "    </tr>\n",
              "    <tr>\n",
              "      <th>8</th>\n",
              "      <td>(tden_dia)</td>\n",
              "      <td>(hora_noche)</td>\n",
              "      <td>63.956070</td>\n",
              "    </tr>\n",
              "    <tr>\n",
              "      <th>9</th>\n",
              "      <td>(tden_inf)</td>\n",
              "      <td>(hora_noche)</td>\n",
              "      <td>68.215739</td>\n",
              "    </tr>\n",
              "    <tr>\n",
              "      <th>10</th>\n",
              "      <td>(tden_mes)</td>\n",
              "      <td>(hora_noche)</td>\n",
              "      <td>66.161352</td>\n",
              "    </tr>\n",
              "    <tr>\n",
              "      <th>11</th>\n",
              "      <td>(tden_sem)</td>\n",
              "      <td>(hora_noche)</td>\n",
              "      <td>65.101904</td>\n",
              "    </tr>\n",
              "  </tbody>\n",
              "</table>\n",
              "</div>"
            ],
            "text/plain": [
              "                    antecedents   consequents  confidence\n",
              "0         (alcaldia_CUAUHTEMOC)  (hora_noche)   66.075329\n",
              "1         (alcaldia_CUAUHTEMOC)    (tden_dia)   54.735648\n",
              "2   (alcaldia_GUSTAVO A MADERO)  (hora_noche)   64.710289\n",
              "3   (alcaldia_GUSTAVO A MADERO)    (tden_dia)   62.996117\n",
              "4         (alcaldia_IZTAPALAPA)  (hora_noche)   63.931091\n",
              "5         (alcaldia_IZTAPALAPA)    (tden_dia)   62.453513\n",
              "6                    (hora_dia)    (tden_dia)   60.821233\n",
              "7                  (hora_noche)    (tden_dia)   58.051544\n",
              "8                    (tden_dia)  (hora_noche)   63.956070\n",
              "9                    (tden_inf)  (hora_noche)   68.215739\n",
              "10                   (tden_mes)  (hora_noche)   66.161352\n",
              "11                   (tden_sem)  (hora_noche)   65.101904"
            ]
          },
          "metadata": {
            "tags": []
          },
          "execution_count": 9
        }
      ]
    },
    {
      "cell_type": "code",
      "metadata": {
        "colab": {
          "base_uri": "https://localhost:8080/",
          "height": 297
        },
        "id": "gIn6h7tidKCc",
        "outputId": "addc36f9-b684-4baf-d5bb-f40fd5ac6b1a"
      },
      "source": [
        "reglas1=association_rules(ex1_1.patrones_umbral(.06), metric=\"confidence\", min_threshold=0.5)\r\n",
        "reglas1 = reglas1.drop(columns=['antecedent support','consequent support','support','lift','leverage','conviction'])\r\n",
        "reglas1['confidence'] = reglas1['confidence']*100\r\n",
        "reglas1"
      ],
      "execution_count": 10,
      "outputs": [
        {
          "output_type": "execute_result",
          "data": {
            "text/html": [
              "<div>\n",
              "<style scoped>\n",
              "    .dataframe tbody tr th:only-of-type {\n",
              "        vertical-align: middle;\n",
              "    }\n",
              "\n",
              "    .dataframe tbody tr th {\n",
              "        vertical-align: top;\n",
              "    }\n",
              "\n",
              "    .dataframe thead th {\n",
              "        text-align: right;\n",
              "    }\n",
              "</style>\n",
              "<table border=\"1\" class=\"dataframe\">\n",
              "  <thead>\n",
              "    <tr style=\"text-align: right;\">\n",
              "      <th></th>\n",
              "      <th>antecedents</th>\n",
              "      <th>consequents</th>\n",
              "      <th>confidence</th>\n",
              "    </tr>\n",
              "  </thead>\n",
              "  <tbody>\n",
              "    <tr>\n",
              "      <th>0</th>\n",
              "      <td>(alcaldia_CUAUHTEMOC)</td>\n",
              "      <td>(hora_tarde)</td>\n",
              "      <td>54.301849</td>\n",
              "    </tr>\n",
              "    <tr>\n",
              "      <th>1</th>\n",
              "      <td>(alcaldia_CUAUHTEMOC)</td>\n",
              "      <td>(tden_dia)</td>\n",
              "      <td>54.735648</td>\n",
              "    </tr>\n",
              "    <tr>\n",
              "      <th>2</th>\n",
              "      <td>(alcaldia_GUSTAVO A MADERO)</td>\n",
              "      <td>(tden_dia)</td>\n",
              "      <td>62.996117</td>\n",
              "    </tr>\n",
              "    <tr>\n",
              "      <th>3</th>\n",
              "      <td>(alcaldia_IZTAPALAPA)</td>\n",
              "      <td>(tden_dia)</td>\n",
              "      <td>62.453513</td>\n",
              "    </tr>\n",
              "    <tr>\n",
              "      <th>4</th>\n",
              "      <td>(hora_dia)</td>\n",
              "      <td>(tden_dia)</td>\n",
              "      <td>67.967249</td>\n",
              "    </tr>\n",
              "    <tr>\n",
              "      <th>5</th>\n",
              "      <td>(hora_noche)</td>\n",
              "      <td>(tden_dia)</td>\n",
              "      <td>66.258381</td>\n",
              "    </tr>\n",
              "    <tr>\n",
              "      <th>6</th>\n",
              "      <td>(hora_tarde)</td>\n",
              "      <td>(tden_dia)</td>\n",
              "      <td>50.737228</td>\n",
              "    </tr>\n",
              "    <tr>\n",
              "      <th>7</th>\n",
              "      <td>(tden_inf)</td>\n",
              "      <td>(hora_tarde)</td>\n",
              "      <td>69.119888</td>\n",
              "    </tr>\n",
              "  </tbody>\n",
              "</table>\n",
              "</div>"
            ],
            "text/plain": [
              "                   antecedents   consequents  confidence\n",
              "0        (alcaldia_CUAUHTEMOC)  (hora_tarde)   54.301849\n",
              "1        (alcaldia_CUAUHTEMOC)    (tden_dia)   54.735648\n",
              "2  (alcaldia_GUSTAVO A MADERO)    (tden_dia)   62.996117\n",
              "3        (alcaldia_IZTAPALAPA)    (tden_dia)   62.453513\n",
              "4                   (hora_dia)    (tden_dia)   67.967249\n",
              "5                 (hora_noche)    (tden_dia)   66.258381\n",
              "6                 (hora_tarde)    (tden_dia)   50.737228\n",
              "7                   (tden_inf)  (hora_tarde)   69.119888"
            ]
          },
          "metadata": {
            "tags": []
          },
          "execution_count": 10
        }
      ]
    },
    {
      "cell_type": "markdown",
      "metadata": {
        "id": "YsUuPC98dv1A"
      },
      "source": [
        "##Analisis a solo un delito"
      ]
    },
    {
      "cell_type": "markdown",
      "metadata": {
        "id": "tCUVl2zIeH5W"
      },
      "source": [
        "creamos el dataset y vemos cuantos registros tiene"
      ]
    },
    {
      "cell_type": "code",
      "metadata": {
        "colab": {
          "base_uri": "https://localhost:8080/"
        },
        "id": "suJL_LPUdyce",
        "outputId": "0abf2120-e1ec-4534-eec1-51f4f175a83c"
      },
      "source": [
        "fraudeData=data[data['delito'] == 'FRAUDE']\r\n",
        "fraudeData.index=[i for i in range(len(fraudeData['delito']))]\r\n",
        "print(len(fraudeData.index))"
      ],
      "execution_count": 11,
      "outputs": [
        {
          "output_type": "stream",
          "text": [
            "45349\n"
          ],
          "name": "stdout"
        }
      ]
    },
    {
      "cell_type": "markdown",
      "metadata": {
        "id": "gPFmykG2eT-v"
      },
      "source": [
        "sacamos los patrones"
      ]
    },
    {
      "cell_type": "code",
      "metadata": {
        "colab": {
          "base_uri": "https://localhost:8080/",
          "height": 317
        },
        "id": "Imc3YSFXeBpS",
        "outputId": "ed2fb62d-6de8-479e-f6a1-c8c8f2ae3255"
      },
      "source": [
        "fraudes=experimentoDiaNoche(fraudeData)\r\n",
        "fraudes.patrones_umbral(0.30)"
      ],
      "execution_count": 12,
      "outputs": [
        {
          "output_type": "stream",
          "text": [
            "Hora hechos\n",
            "Tiempo denuncia\n",
            "Dummies\n"
          ],
          "name": "stdout"
        },
        {
          "output_type": "execute_result",
          "data": {
            "text/html": [
              "<div>\n",
              "<style scoped>\n",
              "    .dataframe tbody tr th:only-of-type {\n",
              "        vertical-align: middle;\n",
              "    }\n",
              "\n",
              "    .dataframe tbody tr th {\n",
              "        vertical-align: top;\n",
              "    }\n",
              "\n",
              "    .dataframe thead th {\n",
              "        text-align: right;\n",
              "    }\n",
              "</style>\n",
              "<table border=\"1\" class=\"dataframe\">\n",
              "  <thead>\n",
              "    <tr style=\"text-align: right;\">\n",
              "      <th></th>\n",
              "      <th>support</th>\n",
              "      <th>itemsets</th>\n",
              "    </tr>\n",
              "  </thead>\n",
              "  <tbody>\n",
              "    <tr>\n",
              "      <th>0</th>\n",
              "      <td>1.000000</td>\n",
              "      <td>(delitos_FRAUDE)</td>\n",
              "    </tr>\n",
              "    <tr>\n",
              "      <th>1</th>\n",
              "      <td>0.742729</td>\n",
              "      <td>(hora_noche)</td>\n",
              "    </tr>\n",
              "    <tr>\n",
              "      <th>2</th>\n",
              "      <td>0.539020</td>\n",
              "      <td>(tden_inf)</td>\n",
              "    </tr>\n",
              "    <tr>\n",
              "      <th>3</th>\n",
              "      <td>0.742729</td>\n",
              "      <td>(hora_noche, delitos_FRAUDE)</td>\n",
              "    </tr>\n",
              "    <tr>\n",
              "      <th>4</th>\n",
              "      <td>0.539020</td>\n",
              "      <td>(tden_inf, delitos_FRAUDE)</td>\n",
              "    </tr>\n",
              "    <tr>\n",
              "      <th>5</th>\n",
              "      <td>0.402170</td>\n",
              "      <td>(hora_noche, tden_inf)</td>\n",
              "    </tr>\n",
              "    <tr>\n",
              "      <th>6</th>\n",
              "      <td>0.402170</td>\n",
              "      <td>(hora_noche, tden_inf, delitos_FRAUDE)</td>\n",
              "    </tr>\n",
              "  </tbody>\n",
              "</table>\n",
              "</div>"
            ],
            "text/plain": [
              "    support                                itemsets\n",
              "0  1.000000                        (delitos_FRAUDE)\n",
              "1  0.742729                            (hora_noche)\n",
              "2  0.539020                              (tden_inf)\n",
              "3  0.742729            (hora_noche, delitos_FRAUDE)\n",
              "4  0.539020              (tden_inf, delitos_FRAUDE)\n",
              "5  0.402170                  (hora_noche, tden_inf)\n",
              "6  0.402170  (hora_noche, tden_inf, delitos_FRAUDE)"
            ]
          },
          "metadata": {
            "tags": []
          },
          "execution_count": 12
        }
      ]
    },
    {
      "cell_type": "markdown",
      "metadata": {
        "id": "bhxPbtbZeZs-"
      },
      "source": [
        "obtenemos las reglas de asosiacion"
      ]
    },
    {
      "cell_type": "code",
      "metadata": {
        "colab": {
          "base_uri": "https://localhost:8080/",
          "height": 390
        },
        "id": "igsALQKVeQNr",
        "outputId": "45cfef74-0225-41a6-fa5a-187865eb1997"
      },
      "source": [
        "reglas_fraude = association_rules(fraudes.patrones_umbral(.3), metric=\"confidence\", min_threshold=0.5)\r\n",
        "reglas_fraude = reglas_fraude.drop(columns=['antecedent support','consequent support','support','lift','leverage','conviction'])\r\n",
        "reglas_fraude['confidence'] = reglas_fraude['confidence']*100\r\n",
        "reglas_fraude"
      ],
      "execution_count": 13,
      "outputs": [
        {
          "output_type": "execute_result",
          "data": {
            "text/html": [
              "<div>\n",
              "<style scoped>\n",
              "    .dataframe tbody tr th:only-of-type {\n",
              "        vertical-align: middle;\n",
              "    }\n",
              "\n",
              "    .dataframe tbody tr th {\n",
              "        vertical-align: top;\n",
              "    }\n",
              "\n",
              "    .dataframe thead th {\n",
              "        text-align: right;\n",
              "    }\n",
              "</style>\n",
              "<table border=\"1\" class=\"dataframe\">\n",
              "  <thead>\n",
              "    <tr style=\"text-align: right;\">\n",
              "      <th></th>\n",
              "      <th>antecedents</th>\n",
              "      <th>consequents</th>\n",
              "      <th>confidence</th>\n",
              "    </tr>\n",
              "  </thead>\n",
              "  <tbody>\n",
              "    <tr>\n",
              "      <th>0</th>\n",
              "      <td>(hora_noche)</td>\n",
              "      <td>(delitos_FRAUDE)</td>\n",
              "      <td>100.000000</td>\n",
              "    </tr>\n",
              "    <tr>\n",
              "      <th>1</th>\n",
              "      <td>(delitos_FRAUDE)</td>\n",
              "      <td>(hora_noche)</td>\n",
              "      <td>74.272862</td>\n",
              "    </tr>\n",
              "    <tr>\n",
              "      <th>2</th>\n",
              "      <td>(tden_inf)</td>\n",
              "      <td>(delitos_FRAUDE)</td>\n",
              "      <td>100.000000</td>\n",
              "    </tr>\n",
              "    <tr>\n",
              "      <th>3</th>\n",
              "      <td>(delitos_FRAUDE)</td>\n",
              "      <td>(tden_inf)</td>\n",
              "      <td>53.901960</td>\n",
              "    </tr>\n",
              "    <tr>\n",
              "      <th>4</th>\n",
              "      <td>(hora_noche)</td>\n",
              "      <td>(tden_inf)</td>\n",
              "      <td>54.147616</td>\n",
              "    </tr>\n",
              "    <tr>\n",
              "      <th>5</th>\n",
              "      <td>(tden_inf)</td>\n",
              "      <td>(hora_noche)</td>\n",
              "      <td>74.611357</td>\n",
              "    </tr>\n",
              "    <tr>\n",
              "      <th>6</th>\n",
              "      <td>(hora_noche, tden_inf)</td>\n",
              "      <td>(delitos_FRAUDE)</td>\n",
              "      <td>100.000000</td>\n",
              "    </tr>\n",
              "    <tr>\n",
              "      <th>7</th>\n",
              "      <td>(hora_noche, delitos_FRAUDE)</td>\n",
              "      <td>(tden_inf)</td>\n",
              "      <td>54.147616</td>\n",
              "    </tr>\n",
              "    <tr>\n",
              "      <th>8</th>\n",
              "      <td>(tden_inf, delitos_FRAUDE)</td>\n",
              "      <td>(hora_noche)</td>\n",
              "      <td>74.611357</td>\n",
              "    </tr>\n",
              "    <tr>\n",
              "      <th>9</th>\n",
              "      <td>(hora_noche)</td>\n",
              "      <td>(tden_inf, delitos_FRAUDE)</td>\n",
              "      <td>54.147616</td>\n",
              "    </tr>\n",
              "    <tr>\n",
              "      <th>10</th>\n",
              "      <td>(tden_inf)</td>\n",
              "      <td>(hora_noche, delitos_FRAUDE)</td>\n",
              "      <td>74.611357</td>\n",
              "    </tr>\n",
              "  </tbody>\n",
              "</table>\n",
              "</div>"
            ],
            "text/plain": [
              "                     antecedents                   consequents  confidence\n",
              "0                   (hora_noche)              (delitos_FRAUDE)  100.000000\n",
              "1               (delitos_FRAUDE)                  (hora_noche)   74.272862\n",
              "2                     (tden_inf)              (delitos_FRAUDE)  100.000000\n",
              "3               (delitos_FRAUDE)                    (tden_inf)   53.901960\n",
              "4                   (hora_noche)                    (tden_inf)   54.147616\n",
              "5                     (tden_inf)                  (hora_noche)   74.611357\n",
              "6         (hora_noche, tden_inf)              (delitos_FRAUDE)  100.000000\n",
              "7   (hora_noche, delitos_FRAUDE)                    (tden_inf)   54.147616\n",
              "8     (tden_inf, delitos_FRAUDE)                  (hora_noche)   74.611357\n",
              "9                   (hora_noche)    (tden_inf, delitos_FRAUDE)   54.147616\n",
              "10                    (tden_inf)  (hora_noche, delitos_FRAUDE)   74.611357"
            ]
          },
          "metadata": {
            "tags": []
          },
          "execution_count": 13
        }
      ]
    },
    {
      "cell_type": "code",
      "metadata": {
        "id": "mINryAAzhwjH"
      },
      "source": [
        ""
      ],
      "execution_count": null,
      "outputs": []
    }
  ]
}