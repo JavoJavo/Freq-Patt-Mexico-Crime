{
  "nbformat": 4,
  "nbformat_minor": 0,
  "metadata": {
    "colab": {
      "name": "Patrones1.ipynb",
      "provenance": [],
      "collapsed_sections": []
    },
    "kernelspec": {
      "name": "python3",
      "display_name": "Python 3",
      "language": "python"
    }
  },
  "cells": [
    {
      "cell_type": "code",
      "metadata": {
        "id": "ZX1_dByXbETZ"
      },
      "source": [
        "import pandas as pd\r\n",
        "import numpy as np\r\n",
        "import mlxtend as mlx\r\n",
        "import mlxtend.preprocessing as mlp\r\n",
        "import mlxtend.frequent_patterns as FP\r\n",
        "from mlxtend.frequent_patterns import association_rules\r\n",
        "import matplotlib.pyplot as plt"
      ],
      "execution_count": 1,
      "outputs": []
    },
    {
      "cell_type": "markdown",
      "metadata": {
        "id": "v8cyO47qenHe"
      },
      "source": [
        "## Analisis de todos los delitos, dividiendo el dia en diferentes partes"
      ]
    },
    {
      "cell_type": "markdown",
      "metadata": {
        "id": "ILfukG9xetOm"
      },
      "source": [
        "Cargar los datos"
      ]
    },
    {
      "cell_type": "code",
      "metadata": {
        "id": "NYEGEisFbL9_"
      },
      "source": [
        "#data = pd.read_csv('/content/drive/MyDrive/csv/carpetas-de-investigacion-pgj-cdmx.csv',na_values='NaN')\n",
        "data = pd.read_csv('/content/drive/MyDrive/csv/carpetas-de-investigacion-pgj-cdmx.csv',na_values='NaN')\n",
        "data = data.drop(columns=['año_hechos','mes_hechos','categoria_delito',\n",
        "                        'Geopoint','calle_hechos2','calle_hechos',\n",
        "                        'colonia_hechos','mes_inicio','ao_inicio','fiscalía','agencia',\n",
        "                        'unidad_investigacion',])\n",
        "data.fecha_hechos = pd.to_datetime(data.fecha_hechos)\n",
        "data.fecha_inicio = pd.to_datetime(data.fecha_inicio)\n",
        "data.rename(columns={'longitud':'lon','latitud':'lat'}, inplace=True)"
      ],
      "execution_count": 4,
      "outputs": []
    },
    {
      "cell_type": "markdown",
      "metadata": {
        "id": "qsxYxzc9ev8b"
      },
      "source": [
        "#creamos clases de apoyo para facilitar el proyecto"
      ]
    },
    {
      "cell_type": "code",
      "metadata": {
        "id": "K6vCxQSYbMM2"
      },
      "source": [
        "class experimentoDiaNoche():\n",
        "    def __init__(self,ex1):\n",
        "        delitos = ex1.delito\n",
        "        alcaldia = ex1.alcaldia_hechos\n",
        "        hora_hechos = [ex1.fecha_hechos[i].hour for i in range(ex1.shape[0])]\n",
        "        print('Hora hechos')\n",
        "        hora_arr1 = []\n",
        "        for hora in hora_hechos:\n",
        "            if hora in range(0,12):\n",
        "                hora_arr1.append('dia')\n",
        "            else:\n",
        "                hora_arr1.append('noche')\n",
        "        tiempo_denuncia = ex1.fecha_inicio - ex1.fecha_hechos \n",
        "        tiempo_denuncia_arr1 = []\n",
        "        for diffe in tiempo_denuncia:\n",
        "            dias = diffe.days\n",
        "            if dias <= 1:\n",
        "                tiempo_denuncia_arr1.append('dia')\n",
        "            elif dias <= 7:\n",
        "                tiempo_denuncia_arr1.append('sem')\n",
        "            elif dias <= 30:\n",
        "                tiempo_denuncia_arr1.append('mes')\n",
        "            else:\n",
        "                tiempo_denuncia_arr1.append('inf')\n",
        "        print('Tiempo denuncia')\n",
        "        experimento1 = pd.DataFrame(\n",
        "                                        {'delitos': delitos,\n",
        "                                        'alcaldia': alcaldia,\n",
        "                                        'hora': hora_arr1,\n",
        "                                        'tden':tiempo_denuncia_arr1\n",
        "                                        })\n",
        "        self.experimento1 = pd.get_dummies(experimento1, \n",
        "                        columns=experimento1.columns,\n",
        "                        dtype = bool) \n",
        "        print('Dummies') \n",
        "        \n",
        "    \n",
        "    def patrones_umbral(self,u):\n",
        "         perfilesFrec = FP.apriori(self.experimento1, min_support=u,use_colnames=True)\n",
        "         return perfilesFrec\n",
        "\n",
        "    def grafica_umbrales(self,l=5,u=100):\n",
        "        X = [x/100 for x in range(l,u+1)]\n",
        "        Y = []\n",
        "\n",
        "        for x in X:\n",
        "            perfilesFrec = FP.apriori(self.experimento1, min_support=x)#,use_colnames=True)\n",
        "            Y.append(perfilesFrec.shape[0])\n",
        "\n",
        "        plt.plot(X,Y)\n",
        "        plt.title('Experimento día/noche')\n",
        "        plt.xlabel('umbral')\n",
        "        plt.ylabel('patrones')\n",
        "        plt.show()"
      ],
      "execution_count": 5,
      "outputs": []
    },
    {
      "cell_type": "code",
      "metadata": {
        "id": "Um-u5Lt1bRQn"
      },
      "source": [
        "class experimentoDiaTardeNoche():\n",
        "    def __init__(self,ex1):\n",
        "        delitos = ex1.delito\n",
        "        alcaldia = ex1.alcaldia_hechos\n",
        "        hora_hechos = [ex1.fecha_hechos[i].hour for i in range(ex1.shape[0])]\n",
        "        print('Hora hechos')\n",
        "        hora_arr1 = []\n",
        "        for hora in hora_hechos:\n",
        "            if hora in range(0,8):\n",
        "                hora_arr1.append('dia')\n",
        "            elif hora in range(8,16):\n",
        "                hora_arr1.append('tarde')\n",
        "            else:\n",
        "                hora_arr1.append('noche')\n",
        "        tiempo_denuncia = ex1.fecha_inicio - ex1.fecha_hechos \n",
        "        tiempo_denuncia_arr1 = []\n",
        "        for diffe in tiempo_denuncia:\n",
        "            dias = diffe.days\n",
        "            if dias <= 1:\n",
        "                tiempo_denuncia_arr1.append('dia')\n",
        "            elif dias <= 7:\n",
        "                tiempo_denuncia_arr1.append('sem')\n",
        "            elif dias <= 30:\n",
        "                tiempo_denuncia_arr1.append('mes')\n",
        "            else:\n",
        "                tiempo_denuncia_arr1.append('inf')\n",
        "        print('Tiempo denuncia')\n",
        "        experimento1 = pd.DataFrame(\n",
        "                                        {'delitos': delitos,\n",
        "                                        'alcaldia': alcaldia,\n",
        "                                        'hora': hora_arr1,\n",
        "                                        'tden':tiempo_denuncia_arr1\n",
        "                                        })\n",
        "        self.experimento1 = pd.get_dummies(experimento1, \n",
        "                        columns=experimento1.columns,\n",
        "                        dtype = bool) \n",
        "        print('Dummies') \n",
        "        \n",
        "    \n",
        "    def patrones_umbral(self,u):\n",
        "         perfilesFrec = FP.apriori(self.experimento1, min_support=u,use_colnames=True)\n",
        "         return perfilesFrec\n",
        "\n",
        "    def grafica_umbrales(self,l=5,u=100):\n",
        "        X = [x/100 for x in range(l,u+1)]\n",
        "        Y = []\n",
        "\n",
        "        for x in X:\n",
        "            perfilesFrec = FP.apriori(self.experimento1, min_support=x)#,use_colnames=True)\n",
        "            Y.append(perfilesFrec.shape[0])\n",
        "\n",
        "        plt.plot(X,Y)\n",
        "        plt.title('Experimento día/tarde/noche')\n",
        "        plt.xlabel('umbral')\n",
        "        plt.ylabel('patrones')\n",
        "        plt.show()"
      ],
      "execution_count": null,
      "outputs": []
    },
    {
      "cell_type": "markdown",
      "metadata": {
        "id": "9Ho5x94AbbRq"
      },
      "source": [
        "Cargar datos para los experimentos"
      ]
    },
    {
      "cell_type": "code",
      "metadata": {
        "colab": {
          "base_uri": "https://localhost:8080/"
        },
        "id": "OeAngOftbUFw",
        "outputId": "c2df693f-a812-426e-966a-51e2c1dc5d64"
      },
      "source": [
        "ex1 = experimentoDiaNoche(data)"
      ],
      "execution_count": null,
      "outputs": [
        {
          "output_type": "stream",
          "text": [
            "Hora hechos\n",
            "Tiempo denuncia\n",
            "Dummies\n"
          ],
          "name": "stdout"
        }
      ]
    },
    {
      "cell_type": "code",
      "metadata": {
        "colab": {
          "base_uri": "https://localhost:8080/"
        },
        "id": "VfNcSSGcbUQy",
        "outputId": "692c9278-b4aa-4514-84aa-eca5a21e3cab"
      },
      "source": [
        "ex1_1=experimentoDiaTardeNoche(data)"
      ],
      "execution_count": null,
      "outputs": [
        {
          "output_type": "stream",
          "text": [
            "Hora hechos\n",
            "Tiempo denuncia\n",
            "Dummies\n"
          ],
          "name": "stdout"
        }
      ]
    },
    {
      "cell_type": "markdown",
      "metadata": {
        "id": "xHs3-JPzh0qs"
      },
      "source": [
        "Hacemos las graficas de umbral-patrones encontrados para los dos experimentos, esto con el fin de ayudarnos a escoger el umbral correcto"
      ]
    },
    {
      "cell_type": "code",
      "metadata": {
        "id": "B7QJt87sh_Fq",
        "outputId": "90b65df7-4fd9-4b79-a4ab-9878d5f09d08"
      },
      "source": [
        "ex1.grafica_umbrales()"
      ],
      "execution_count": null,
      "outputs": [
        {
          "output_type": "display_data",
          "data": {
            "text/plain": [
              "<Figure size 432x288 with 1 Axes>"
            ],
            "image/svg+xml": "<?xml version=\"1.0\" encoding=\"utf-8\" standalone=\"no\"?>\r\n<!DOCTYPE svg PUBLIC \"-//W3C//DTD SVG 1.1//EN\"\r\n  \"http://www.w3.org/Graphics/SVG/1.1/DTD/svg11.dtd\">\r\n<!-- Created with matplotlib (https://matplotlib.org/) -->\r\n<svg height=\"277.794375pt\" version=\"1.1\" viewBox=\"0 0 383.79375 277.794375\" width=\"383.79375pt\" xmlns=\"http://www.w3.org/2000/svg\" xmlns:xlink=\"http://www.w3.org/1999/xlink\">\r\n <metadata>\r\n  <rdf:RDF xmlns:cc=\"http://creativecommons.org/ns#\" xmlns:dc=\"http://purl.org/dc/elements/1.1/\" xmlns:rdf=\"http://www.w3.org/1999/02/22-rdf-syntax-ns#\">\r\n   <cc:Work>\r\n    <dc:type rdf:resource=\"http://purl.org/dc/dcmitype/StillImage\"/>\r\n    <dc:date>2021-01-26T16:06:37.393033</dc:date>\r\n    <dc:format>image/svg+xml</dc:format>\r\n    <dc:creator>\r\n     <cc:Agent>\r\n      <dc:title>Matplotlib v3.3.2, https://matplotlib.org/</dc:title>\r\n     </cc:Agent>\r\n    </dc:creator>\r\n   </cc:Work>\r\n  </rdf:RDF>\r\n </metadata>\r\n <defs>\r\n  <style type=\"text/css\">*{stroke-linecap:butt;stroke-linejoin:round;}</style>\r\n </defs>\r\n <g id=\"figure_1\">\r\n  <g id=\"patch_1\">\r\n   <path d=\"M 0 277.794375 \r\nL 383.79375 277.794375 \r\nL 383.79375 0 \r\nL 0 0 \r\nz\r\n\" style=\"fill:none;\"/>\r\n  </g>\r\n  <g id=\"axes_1\">\r\n   <g id=\"patch_2\">\r\n    <path d=\"M 41.79375 240.238125 \r\nL 376.59375 240.238125 \r\nL 376.59375 22.798125 \r\nL 41.79375 22.798125 \r\nz\r\n\" style=\"fill:#ffffff;\"/>\r\n   </g>\r\n   <g id=\"matplotlib.axis_1\">\r\n    <g id=\"xtick_1\">\r\n     <g id=\"line2d_1\">\r\n      <defs>\r\n       <path d=\"M 0 0 \r\nL 0 3.5 \r\n\" id=\"mcf7e72308d\" style=\"stroke:#000000;stroke-width:0.8;\"/>\r\n      </defs>\r\n      <g>\r\n       <use style=\"stroke:#000000;stroke-width:0.8;\" x=\"105.069348\" xlink:href=\"#mcf7e72308d\" y=\"240.238125\"/>\r\n      </g>\r\n     </g>\r\n     <g id=\"text_1\">\r\n      <!-- 0.2 -->\r\n      <g transform=\"translate(96.212317 254.836563)scale(0.1 -0.1)\">\r\n       <defs>\r\n        <path d=\"M 46 36.53125 \r\nQ 46 50.203125 43.4375 55.78125 \r\nQ 40.875 61.375 34.8125 61.375 \r\nQ 28.765625 61.375 26.171875 55.78125 \r\nQ 23.578125 50.203125 23.578125 36.53125 \r\nQ 23.578125 22.703125 26.171875 17.03125 \r\nQ 28.765625 11.375 34.8125 11.375 \r\nQ 40.828125 11.375 43.40625 17.03125 \r\nQ 46 22.703125 46 36.53125 \r\nz\r\nM 64.796875 36.375 \r\nQ 64.796875 18.265625 56.984375 8.421875 \r\nQ 49.171875 -1.421875 34.8125 -1.421875 \r\nQ 20.40625 -1.421875 12.59375 8.421875 \r\nQ 4.78125 18.265625 4.78125 36.375 \r\nQ 4.78125 54.546875 12.59375 64.375 \r\nQ 20.40625 74.21875 34.8125 74.21875 \r\nQ 49.171875 74.21875 56.984375 64.375 \r\nQ 64.796875 54.546875 64.796875 36.375 \r\nz\r\n\" id=\"DejaVuSans-Bold-48\"/>\r\n        <path d=\"M 10.203125 18.890625 \r\nL 27.78125 18.890625 \r\nL 27.78125 0 \r\nL 10.203125 0 \r\nz\r\n\" id=\"DejaVuSans-Bold-46\"/>\r\n        <path d=\"M 28.8125 13.8125 \r\nL 60.890625 13.8125 \r\nL 60.890625 0 \r\nL 7.90625 0 \r\nL 7.90625 13.8125 \r\nL 34.515625 37.3125 \r\nQ 38.09375 40.53125 39.796875 43.609375 \r\nQ 41.5 46.6875 41.5 50 \r\nQ 41.5 55.125 38.0625 58.25 \r\nQ 34.625 61.375 28.90625 61.375 \r\nQ 24.515625 61.375 19.28125 59.5 \r\nQ 14.0625 57.625 8.109375 53.90625 \r\nL 8.109375 69.921875 \r\nQ 14.453125 72.015625 20.65625 73.109375 \r\nQ 26.859375 74.21875 32.8125 74.21875 \r\nQ 45.90625 74.21875 53.15625 68.453125 \r\nQ 60.40625 62.703125 60.40625 52.390625 \r\nQ 60.40625 46.4375 57.328125 41.28125 \r\nQ 54.25 36.140625 44.390625 27.484375 \r\nz\r\n\" id=\"DejaVuSans-Bold-50\"/>\r\n       </defs>\r\n       <use xlink:href=\"#DejaVuSans-Bold-48\"/>\r\n       <use x=\"69.580078\" xlink:href=\"#DejaVuSans-Bold-46\"/>\r\n       <use x=\"107.568359\" xlink:href=\"#DejaVuSans-Bold-50\"/>\r\n      </g>\r\n     </g>\r\n    </g>\r\n    <g id=\"xtick_2\">\r\n     <g id=\"line2d_2\">\r\n      <g>\r\n       <use style=\"stroke:#000000;stroke-width:0.8;\" x=\"169.145903\" xlink:href=\"#mcf7e72308d\" y=\"240.238125\"/>\r\n      </g>\r\n     </g>\r\n     <g id=\"text_2\">\r\n      <!-- 0.4 -->\r\n      <g transform=\"translate(160.288872 254.836563)scale(0.1 -0.1)\">\r\n       <defs>\r\n        <path d=\"M 36.8125 57.421875 \r\nL 16.21875 26.90625 \r\nL 36.8125 26.90625 \r\nz\r\nM 33.6875 72.90625 \r\nL 54.59375 72.90625 \r\nL 54.59375 26.90625 \r\nL 64.984375 26.90625 \r\nL 64.984375 13.28125 \r\nL 54.59375 13.28125 \r\nL 54.59375 0 \r\nL 36.8125 0 \r\nL 36.8125 13.28125 \r\nL 4.5 13.28125 \r\nL 4.5 29.390625 \r\nz\r\n\" id=\"DejaVuSans-Bold-52\"/>\r\n       </defs>\r\n       <use xlink:href=\"#DejaVuSans-Bold-48\"/>\r\n       <use x=\"69.580078\" xlink:href=\"#DejaVuSans-Bold-46\"/>\r\n       <use x=\"107.568359\" xlink:href=\"#DejaVuSans-Bold-52\"/>\r\n      </g>\r\n     </g>\r\n    </g>\r\n    <g id=\"xtick_3\">\r\n     <g id=\"line2d_3\">\r\n      <g>\r\n       <use style=\"stroke:#000000;stroke-width:0.8;\" x=\"233.222458\" xlink:href=\"#mcf7e72308d\" y=\"240.238125\"/>\r\n      </g>\r\n     </g>\r\n     <g id=\"text_3\">\r\n      <!-- 0.6 -->\r\n      <g transform=\"translate(224.365427 254.836563)scale(0.1 -0.1)\">\r\n       <defs>\r\n        <path d=\"M 36.1875 35.984375 \r\nQ 31.25 35.984375 28.78125 32.78125 \r\nQ 26.3125 29.59375 26.3125 23.1875 \r\nQ 26.3125 16.796875 28.78125 13.59375 \r\nQ 31.25 10.40625 36.1875 10.40625 \r\nQ 41.15625 10.40625 43.625 13.59375 \r\nQ 46.09375 16.796875 46.09375 23.1875 \r\nQ 46.09375 29.59375 43.625 32.78125 \r\nQ 41.15625 35.984375 36.1875 35.984375 \r\nz\r\nM 59.421875 71 \r\nL 59.421875 57.515625 \r\nQ 54.78125 59.71875 50.671875 60.765625 \r\nQ 46.578125 61.8125 42.671875 61.8125 \r\nQ 34.28125 61.8125 29.59375 57.140625 \r\nQ 24.90625 52.484375 24.125 43.3125 \r\nQ 27.34375 45.703125 31.09375 46.890625 \r\nQ 34.859375 48.09375 39.3125 48.09375 \r\nQ 50.484375 48.09375 57.34375 41.546875 \r\nQ 64.203125 35.015625 64.203125 24.421875 \r\nQ 64.203125 12.703125 56.53125 5.640625 \r\nQ 48.875 -1.421875 35.984375 -1.421875 \r\nQ 21.78125 -1.421875 13.984375 8.171875 \r\nQ 6.203125 17.78125 6.203125 35.40625 \r\nQ 6.203125 53.46875 15.3125 63.796875 \r\nQ 24.421875 74.125 40.28125 74.125 \r\nQ 45.3125 74.125 50.046875 73.34375 \r\nQ 54.78125 72.5625 59.421875 71 \r\nz\r\n\" id=\"DejaVuSans-Bold-54\"/>\r\n       </defs>\r\n       <use xlink:href=\"#DejaVuSans-Bold-48\"/>\r\n       <use x=\"69.580078\" xlink:href=\"#DejaVuSans-Bold-46\"/>\r\n       <use x=\"107.568359\" xlink:href=\"#DejaVuSans-Bold-54\"/>\r\n      </g>\r\n     </g>\r\n    </g>\r\n    <g id=\"xtick_4\">\r\n     <g id=\"line2d_4\">\r\n      <g>\r\n       <use style=\"stroke:#000000;stroke-width:0.8;\" x=\"297.299013\" xlink:href=\"#mcf7e72308d\" y=\"240.238125\"/>\r\n      </g>\r\n     </g>\r\n     <g id=\"text_4\">\r\n      <!-- 0.8 -->\r\n      <g transform=\"translate(288.441982 254.836563)scale(0.1 -0.1)\">\r\n       <defs>\r\n        <path d=\"M 34.8125 32.625 \r\nQ 29.546875 32.625 26.703125 29.734375 \r\nQ 23.875 26.859375 23.875 21.484375 \r\nQ 23.875 16.109375 26.703125 13.25 \r\nQ 29.546875 10.40625 34.8125 10.40625 \r\nQ 40.046875 10.40625 42.828125 13.25 \r\nQ 45.609375 16.109375 45.609375 21.484375 \r\nQ 45.609375 26.90625 42.828125 29.765625 \r\nQ 40.046875 32.625 34.8125 32.625 \r\nz\r\nM 21.09375 38.8125 \r\nQ 14.453125 40.828125 11.078125 44.96875 \r\nQ 7.71875 49.125 7.71875 55.328125 \r\nQ 7.71875 64.546875 14.59375 69.375 \r\nQ 21.484375 74.21875 34.8125 74.21875 \r\nQ 48.046875 74.21875 54.921875 69.40625 \r\nQ 61.8125 64.59375 61.8125 55.328125 \r\nQ 61.8125 49.125 58.421875 44.96875 \r\nQ 55.03125 40.828125 48.390625 38.8125 \r\nQ 55.8125 36.765625 59.59375 32.15625 \r\nQ 63.375 27.546875 63.375 20.515625 \r\nQ 63.375 9.671875 56.171875 4.125 \r\nQ 48.96875 -1.421875 34.8125 -1.421875 \r\nQ 20.609375 -1.421875 13.359375 4.125 \r\nQ 6.109375 9.671875 6.109375 20.515625 \r\nQ 6.109375 27.546875 9.890625 32.15625 \r\nQ 13.671875 36.765625 21.09375 38.8125 \r\nz\r\nM 25.484375 53.421875 \r\nQ 25.484375 49.078125 27.90625 46.734375 \r\nQ 30.328125 44.390625 34.8125 44.390625 \r\nQ 39.203125 44.390625 41.59375 46.734375 \r\nQ 44 49.078125 44 53.421875 \r\nQ 44 57.765625 41.59375 60.078125 \r\nQ 39.203125 62.40625 34.8125 62.40625 \r\nQ 30.328125 62.40625 27.90625 60.0625 \r\nQ 25.484375 57.71875 25.484375 53.421875 \r\nz\r\n\" id=\"DejaVuSans-Bold-56\"/>\r\n       </defs>\r\n       <use xlink:href=\"#DejaVuSans-Bold-48\"/>\r\n       <use x=\"69.580078\" xlink:href=\"#DejaVuSans-Bold-46\"/>\r\n       <use x=\"107.568359\" xlink:href=\"#DejaVuSans-Bold-56\"/>\r\n      </g>\r\n     </g>\r\n    </g>\r\n    <g id=\"xtick_5\">\r\n     <g id=\"line2d_5\">\r\n      <g>\r\n       <use style=\"stroke:#000000;stroke-width:0.8;\" x=\"361.375568\" xlink:href=\"#mcf7e72308d\" y=\"240.238125\"/>\r\n      </g>\r\n     </g>\r\n     <g id=\"text_5\">\r\n      <!-- 1.0 -->\r\n      <g transform=\"translate(352.518537 254.836563)scale(0.1 -0.1)\">\r\n       <defs>\r\n        <path d=\"M 11.71875 12.984375 \r\nL 28.328125 12.984375 \r\nL 28.328125 60.109375 \r\nL 11.28125 56.59375 \r\nL 11.28125 69.390625 \r\nL 28.21875 72.90625 \r\nL 46.09375 72.90625 \r\nL 46.09375 12.984375 \r\nL 62.703125 12.984375 \r\nL 62.703125 0 \r\nL 11.71875 0 \r\nz\r\n\" id=\"DejaVuSans-Bold-49\"/>\r\n       </defs>\r\n       <use xlink:href=\"#DejaVuSans-Bold-49\"/>\r\n       <use x=\"69.580078\" xlink:href=\"#DejaVuSans-Bold-46\"/>\r\n       <use x=\"107.568359\" xlink:href=\"#DejaVuSans-Bold-48\"/>\r\n      </g>\r\n     </g>\r\n    </g>\r\n    <g id=\"text_6\">\r\n     <!-- umbral -->\r\n     <g transform=\"translate(189.291406 268.514687)scale(0.1 -0.1)\">\r\n      <defs>\r\n       <path d=\"M 7.8125 21.296875 \r\nL 7.8125 54.6875 \r\nL 25.390625 54.6875 \r\nL 25.390625 49.21875 \r\nQ 25.390625 44.78125 25.34375 38.0625 \r\nQ 25.296875 31.34375 25.296875 29.109375 \r\nQ 25.296875 22.515625 25.640625 19.609375 \r\nQ 25.984375 16.703125 26.8125 15.375 \r\nQ 27.875 13.671875 29.609375 12.734375 \r\nQ 31.34375 11.8125 33.59375 11.8125 \r\nQ 39.0625 11.8125 42.1875 16.015625 \r\nQ 45.3125 20.21875 45.3125 27.6875 \r\nL 45.3125 54.6875 \r\nL 62.796875 54.6875 \r\nL 62.796875 0 \r\nL 45.3125 0 \r\nL 45.3125 7.90625 \r\nQ 41.359375 3.125 36.9375 0.84375 \r\nQ 32.515625 -1.421875 27.203125 -1.421875 \r\nQ 17.71875 -1.421875 12.765625 4.390625 \r\nQ 7.8125 10.203125 7.8125 21.296875 \r\nz\r\n\" id=\"DejaVuSans-Bold-117\"/>\r\n       <path d=\"M 59.078125 45.609375 \r\nQ 62.40625 50.6875 66.96875 53.34375 \r\nQ 71.53125 56 77 56 \r\nQ 86.421875 56 91.359375 50.1875 \r\nQ 96.296875 44.390625 96.296875 33.296875 \r\nL 96.296875 0 \r\nL 78.71875 0 \r\nL 78.71875 28.515625 \r\nQ 78.765625 29.15625 78.78125 29.828125 \r\nQ 78.8125 30.515625 78.8125 31.78125 \r\nQ 78.8125 37.59375 77.09375 40.203125 \r\nQ 75.390625 42.828125 71.578125 42.828125 \r\nQ 66.609375 42.828125 63.890625 38.71875 \r\nQ 61.1875 34.625 61.078125 26.859375 \r\nL 61.078125 0 \r\nL 43.5 0 \r\nL 43.5 28.515625 \r\nQ 43.5 37.59375 41.9375 40.203125 \r\nQ 40.375 42.828125 36.375 42.828125 \r\nQ 31.34375 42.828125 28.609375 38.703125 \r\nQ 25.875 34.578125 25.875 26.90625 \r\nL 25.875 0 \r\nL 8.296875 0 \r\nL 8.296875 54.6875 \r\nL 25.875 54.6875 \r\nL 25.875 46.6875 \r\nQ 29.109375 51.3125 33.28125 53.65625 \r\nQ 37.453125 56 42.484375 56 \r\nQ 48.140625 56 52.484375 53.265625 \r\nQ 56.84375 50.53125 59.078125 45.609375 \r\nz\r\n\" id=\"DejaVuSans-Bold-109\"/>\r\n       <path d=\"M 37.5 11.28125 \r\nQ 43.109375 11.28125 46.0625 15.375 \r\nQ 49.03125 19.484375 49.03125 27.296875 \r\nQ 49.03125 35.109375 46.0625 39.203125 \r\nQ 43.109375 43.3125 37.5 43.3125 \r\nQ 31.890625 43.3125 28.875 39.1875 \r\nQ 25.875 35.0625 25.875 27.296875 \r\nQ 25.875 19.53125 28.875 15.40625 \r\nQ 31.890625 11.28125 37.5 11.28125 \r\nz\r\nM 25.875 46.6875 \r\nQ 29.5 51.46875 33.890625 53.734375 \r\nQ 38.28125 56 44 56 \r\nQ 54.109375 56 60.59375 47.96875 \r\nQ 67.09375 39.9375 67.09375 27.296875 \r\nQ 67.09375 14.65625 60.59375 6.609375 \r\nQ 54.109375 -1.421875 44 -1.421875 \r\nQ 38.28125 -1.421875 33.890625 0.84375 \r\nQ 29.5 3.125 25.875 7.90625 \r\nL 25.875 0 \r\nL 8.40625 0 \r\nL 8.40625 75.984375 \r\nL 25.875 75.984375 \r\nz\r\n\" id=\"DejaVuSans-Bold-98\"/>\r\n       <path d=\"M 49.03125 39.796875 \r\nQ 46.734375 40.875 44.453125 41.375 \r\nQ 42.1875 41.890625 39.890625 41.890625 \r\nQ 33.15625 41.890625 29.515625 37.5625 \r\nQ 25.875 33.25 25.875 25.203125 \r\nL 25.875 0 \r\nL 8.40625 0 \r\nL 8.40625 54.6875 \r\nL 25.875 54.6875 \r\nL 25.875 45.703125 \r\nQ 29.25 51.078125 33.609375 53.53125 \r\nQ 37.984375 56 44.09375 56 \r\nQ 44.96875 56 45.984375 55.921875 \r\nQ 47.015625 55.859375 48.96875 55.609375 \r\nz\r\n\" id=\"DejaVuSans-Bold-114\"/>\r\n       <path d=\"M 32.90625 24.609375 \r\nQ 27.4375 24.609375 24.671875 22.75 \r\nQ 21.921875 20.90625 21.921875 17.28125 \r\nQ 21.921875 13.96875 24.140625 12.078125 \r\nQ 26.375 10.203125 30.328125 10.203125 \r\nQ 35.25 10.203125 38.625 13.734375 \r\nQ 42 17.28125 42 22.609375 \r\nL 42 24.609375 \r\nz\r\nM 59.625 31.203125 \r\nL 59.625 0 \r\nL 42 0 \r\nL 42 8.109375 \r\nQ 38.484375 3.125 34.078125 0.84375 \r\nQ 29.6875 -1.421875 23.390625 -1.421875 \r\nQ 14.890625 -1.421875 9.59375 3.53125 \r\nQ 4.296875 8.5 4.296875 16.40625 \r\nQ 4.296875 26.03125 10.90625 30.515625 \r\nQ 17.53125 35.015625 31.6875 35.015625 \r\nL 42 35.015625 \r\nL 42 36.375 \r\nQ 42 40.53125 38.71875 42.453125 \r\nQ 35.453125 44.390625 28.515625 44.390625 \r\nQ 22.90625 44.390625 18.0625 43.265625 \r\nQ 13.234375 42.140625 9.078125 39.890625 \r\nL 9.078125 53.21875 \r\nQ 14.703125 54.59375 20.359375 55.296875 \r\nQ 26.03125 56 31.6875 56 \r\nQ 46.484375 56 53.046875 50.171875 \r\nQ 59.625 44.34375 59.625 31.203125 \r\nz\r\n\" id=\"DejaVuSans-Bold-97\"/>\r\n       <path d=\"M 8.40625 75.984375 \r\nL 25.875 75.984375 \r\nL 25.875 0 \r\nL 8.40625 0 \r\nz\r\n\" id=\"DejaVuSans-Bold-108\"/>\r\n      </defs>\r\n      <use xlink:href=\"#DejaVuSans-Bold-117\"/>\r\n      <use x=\"71.191406\" xlink:href=\"#DejaVuSans-Bold-109\"/>\r\n      <use x=\"175.390625\" xlink:href=\"#DejaVuSans-Bold-98\"/>\r\n      <use x=\"246.972656\" xlink:href=\"#DejaVuSans-Bold-114\"/>\r\n      <use x=\"296.289062\" xlink:href=\"#DejaVuSans-Bold-97\"/>\r\n      <use x=\"363.769531\" xlink:href=\"#DejaVuSans-Bold-108\"/>\r\n     </g>\r\n    </g>\r\n   </g>\r\n   <g id=\"matplotlib.axis_2\">\r\n    <g id=\"ytick_1\">\r\n     <g id=\"line2d_6\">\r\n      <defs>\r\n       <path d=\"M 0 0 \r\nL -3.5 0 \r\n\" id=\"m4bd0d3d38b\" style=\"stroke:#000000;stroke-width:0.8;\"/>\r\n      </defs>\r\n      <g>\r\n       <use style=\"stroke:#000000;stroke-width:0.8;\" x=\"41.79375\" xlink:href=\"#m4bd0d3d38b\" y=\"230.354489\"/>\r\n      </g>\r\n     </g>\r\n     <g id=\"text_7\">\r\n      <!-- 0 -->\r\n      <g transform=\"translate(27.835938 234.153707)scale(0.1 -0.1)\">\r\n       <use xlink:href=\"#DejaVuSans-Bold-48\"/>\r\n      </g>\r\n     </g>\r\n    </g>\r\n    <g id=\"ytick_2\">\r\n     <g id=\"line2d_7\">\r\n      <g>\r\n       <use style=\"stroke:#000000;stroke-width:0.8;\" x=\"41.79375\" xlink:href=\"#m4bd0d3d38b\" y=\"205.645398\"/>\r\n      </g>\r\n     </g>\r\n     <g id=\"text_8\">\r\n      <!-- 5 -->\r\n      <g transform=\"translate(27.835938 209.444616)scale(0.1 -0.1)\">\r\n       <defs>\r\n        <path d=\"M 10.59375 72.90625 \r\nL 57.328125 72.90625 \r\nL 57.328125 59.078125 \r\nL 25.59375 59.078125 \r\nL 25.59375 47.796875 \r\nQ 27.734375 48.390625 29.90625 48.703125 \r\nQ 32.078125 49.03125 34.421875 49.03125 \r\nQ 47.75 49.03125 55.171875 42.359375 \r\nQ 62.59375 35.6875 62.59375 23.78125 \r\nQ 62.59375 11.96875 54.515625 5.265625 \r\nQ 46.4375 -1.421875 32.078125 -1.421875 \r\nQ 25.875 -1.421875 19.796875 -0.21875 \r\nQ 13.71875 0.984375 7.71875 3.421875 \r\nL 7.71875 18.21875 \r\nQ 13.671875 14.796875 19.015625 13.078125 \r\nQ 24.359375 11.375 29.109375 11.375 \r\nQ 35.9375 11.375 39.859375 14.71875 \r\nQ 43.796875 18.0625 43.796875 23.78125 \r\nQ 43.796875 29.546875 39.859375 32.859375 \r\nQ 35.9375 36.1875 29.109375 36.1875 \r\nQ 25.046875 36.1875 20.453125 35.125 \r\nQ 15.875 34.078125 10.59375 31.890625 \r\nz\r\n\" id=\"DejaVuSans-Bold-53\"/>\r\n       </defs>\r\n       <use xlink:href=\"#DejaVuSans-Bold-53\"/>\r\n      </g>\r\n     </g>\r\n    </g>\r\n    <g id=\"ytick_3\">\r\n     <g id=\"line2d_8\">\r\n      <g>\r\n       <use style=\"stroke:#000000;stroke-width:0.8;\" x=\"41.79375\" xlink:href=\"#m4bd0d3d38b\" y=\"180.936307\"/>\r\n      </g>\r\n     </g>\r\n     <g id=\"text_9\">\r\n      <!-- 10 -->\r\n      <g transform=\"translate(20.878125 184.735526)scale(0.1 -0.1)\">\r\n       <use xlink:href=\"#DejaVuSans-Bold-49\"/>\r\n       <use x=\"69.580078\" xlink:href=\"#DejaVuSans-Bold-48\"/>\r\n      </g>\r\n     </g>\r\n    </g>\r\n    <g id=\"ytick_4\">\r\n     <g id=\"line2d_9\">\r\n      <g>\r\n       <use style=\"stroke:#000000;stroke-width:0.8;\" x=\"41.79375\" xlink:href=\"#m4bd0d3d38b\" y=\"156.227216\"/>\r\n      </g>\r\n     </g>\r\n     <g id=\"text_10\">\r\n      <!-- 15 -->\r\n      <g transform=\"translate(20.878125 160.026435)scale(0.1 -0.1)\">\r\n       <use xlink:href=\"#DejaVuSans-Bold-49\"/>\r\n       <use x=\"69.580078\" xlink:href=\"#DejaVuSans-Bold-53\"/>\r\n      </g>\r\n     </g>\r\n    </g>\r\n    <g id=\"ytick_5\">\r\n     <g id=\"line2d_10\">\r\n      <g>\r\n       <use style=\"stroke:#000000;stroke-width:0.8;\" x=\"41.79375\" xlink:href=\"#m4bd0d3d38b\" y=\"131.518125\"/>\r\n      </g>\r\n     </g>\r\n     <g id=\"text_11\">\r\n      <!-- 20 -->\r\n      <g transform=\"translate(20.878125 135.317344)scale(0.1 -0.1)\">\r\n       <use xlink:href=\"#DejaVuSans-Bold-50\"/>\r\n       <use x=\"69.580078\" xlink:href=\"#DejaVuSans-Bold-48\"/>\r\n      </g>\r\n     </g>\r\n    </g>\r\n    <g id=\"ytick_6\">\r\n     <g id=\"line2d_11\">\r\n      <g>\r\n       <use style=\"stroke:#000000;stroke-width:0.8;\" x=\"41.79375\" xlink:href=\"#m4bd0d3d38b\" y=\"106.809034\"/>\r\n      </g>\r\n     </g>\r\n     <g id=\"text_12\">\r\n      <!-- 25 -->\r\n      <g transform=\"translate(20.878125 110.608253)scale(0.1 -0.1)\">\r\n       <use xlink:href=\"#DejaVuSans-Bold-50\"/>\r\n       <use x=\"69.580078\" xlink:href=\"#DejaVuSans-Bold-53\"/>\r\n      </g>\r\n     </g>\r\n    </g>\r\n    <g id=\"ytick_7\">\r\n     <g id=\"line2d_12\">\r\n      <g>\r\n       <use style=\"stroke:#000000;stroke-width:0.8;\" x=\"41.79375\" xlink:href=\"#m4bd0d3d38b\" y=\"82.099943\"/>\r\n      </g>\r\n     </g>\r\n     <g id=\"text_13\">\r\n      <!-- 30 -->\r\n      <g transform=\"translate(20.878125 85.899162)scale(0.1 -0.1)\">\r\n       <defs>\r\n        <path d=\"M 46.578125 39.3125 \r\nQ 53.953125 37.40625 57.78125 32.6875 \r\nQ 61.625 27.984375 61.625 20.703125 \r\nQ 61.625 9.859375 53.3125 4.21875 \r\nQ 45.015625 -1.421875 29.109375 -1.421875 \r\nQ 23.484375 -1.421875 17.84375 -0.515625 \r\nQ 12.203125 0.390625 6.6875 2.203125 \r\nL 6.6875 16.703125 \r\nQ 11.96875 14.0625 17.15625 12.71875 \r\nQ 22.359375 11.375 27.390625 11.375 \r\nQ 34.859375 11.375 38.84375 13.953125 \r\nQ 42.828125 16.546875 42.828125 21.390625 \r\nQ 42.828125 26.375 38.75 28.9375 \r\nQ 34.671875 31.5 26.703125 31.5 \r\nL 19.1875 31.5 \r\nL 19.1875 43.609375 \r\nL 27.09375 43.609375 \r\nQ 34.1875 43.609375 37.640625 45.828125 \r\nQ 41.109375 48.046875 41.109375 52.59375 \r\nQ 41.109375 56.78125 37.734375 59.078125 \r\nQ 34.375 61.375 28.21875 61.375 \r\nQ 23.6875 61.375 19.046875 60.34375 \r\nQ 14.40625 59.328125 9.8125 57.328125 \r\nL 9.8125 71.09375 \r\nQ 15.375 72.65625 20.84375 73.4375 \r\nQ 26.3125 74.21875 31.59375 74.21875 \r\nQ 45.796875 74.21875 52.84375 69.546875 \r\nQ 59.90625 64.890625 59.90625 55.515625 \r\nQ 59.90625 49.125 56.53125 45.046875 \r\nQ 53.171875 40.96875 46.578125 39.3125 \r\nz\r\n\" id=\"DejaVuSans-Bold-51\"/>\r\n       </defs>\r\n       <use xlink:href=\"#DejaVuSans-Bold-51\"/>\r\n       <use x=\"69.580078\" xlink:href=\"#DejaVuSans-Bold-48\"/>\r\n      </g>\r\n     </g>\r\n    </g>\r\n    <g id=\"ytick_8\">\r\n     <g id=\"line2d_13\">\r\n      <g>\r\n       <use style=\"stroke:#000000;stroke-width:0.8;\" x=\"41.79375\" xlink:href=\"#m4bd0d3d38b\" y=\"57.390852\"/>\r\n      </g>\r\n     </g>\r\n     <g id=\"text_14\">\r\n      <!-- 35 -->\r\n      <g transform=\"translate(20.878125 61.190071)scale(0.1 -0.1)\">\r\n       <use xlink:href=\"#DejaVuSans-Bold-51\"/>\r\n       <use x=\"69.580078\" xlink:href=\"#DejaVuSans-Bold-53\"/>\r\n      </g>\r\n     </g>\r\n    </g>\r\n    <g id=\"ytick_9\">\r\n     <g id=\"line2d_14\">\r\n      <g>\r\n       <use style=\"stroke:#000000;stroke-width:0.8;\" x=\"41.79375\" xlink:href=\"#m4bd0d3d38b\" y=\"32.681761\"/>\r\n      </g>\r\n     </g>\r\n     <g id=\"text_15\">\r\n      <!-- 40 -->\r\n      <g transform=\"translate(20.878125 36.48098)scale(0.1 -0.1)\">\r\n       <use xlink:href=\"#DejaVuSans-Bold-52\"/>\r\n       <use x=\"69.580078\" xlink:href=\"#DejaVuSans-Bold-48\"/>\r\n      </g>\r\n     </g>\r\n    </g>\r\n    <g id=\"text_16\">\r\n     <!-- patrones -->\r\n     <g transform=\"translate(14.798438 156.688437)rotate(-90)scale(0.1 -0.1)\">\r\n      <defs>\r\n       <path d=\"M 25.875 7.90625 \r\nL 25.875 -20.796875 \r\nL 8.40625 -20.796875 \r\nL 8.40625 54.6875 \r\nL 25.875 54.6875 \r\nL 25.875 46.6875 \r\nQ 29.5 51.46875 33.890625 53.734375 \r\nQ 38.28125 56 44 56 \r\nQ 54.109375 56 60.59375 47.96875 \r\nQ 67.09375 39.9375 67.09375 27.296875 \r\nQ 67.09375 14.65625 60.59375 6.609375 \r\nQ 54.109375 -1.421875 44 -1.421875 \r\nQ 38.28125 -1.421875 33.890625 0.84375 \r\nQ 29.5 3.125 25.875 7.90625 \r\nz\r\nM 37.5 43.3125 \r\nQ 31.890625 43.3125 28.875 39.1875 \r\nQ 25.875 35.0625 25.875 27.296875 \r\nQ 25.875 19.53125 28.875 15.40625 \r\nQ 31.890625 11.28125 37.5 11.28125 \r\nQ 43.109375 11.28125 46.0625 15.375 \r\nQ 49.03125 19.484375 49.03125 27.296875 \r\nQ 49.03125 35.109375 46.0625 39.203125 \r\nQ 43.109375 43.3125 37.5 43.3125 \r\nz\r\n\" id=\"DejaVuSans-Bold-112\"/>\r\n       <path d=\"M 27.484375 70.21875 \r\nL 27.484375 54.6875 \r\nL 45.515625 54.6875 \r\nL 45.515625 42.1875 \r\nL 27.484375 42.1875 \r\nL 27.484375 19 \r\nQ 27.484375 15.1875 29 13.84375 \r\nQ 30.515625 12.5 35.015625 12.5 \r\nL 44 12.5 \r\nL 44 0 \r\nL 29 0 \r\nQ 18.65625 0 14.328125 4.3125 \r\nQ 10.015625 8.640625 10.015625 19 \r\nL 10.015625 42.1875 \r\nL 1.3125 42.1875 \r\nL 1.3125 54.6875 \r\nL 10.015625 54.6875 \r\nL 10.015625 70.21875 \r\nz\r\n\" id=\"DejaVuSans-Bold-116\"/>\r\n       <path d=\"M 34.421875 43.5 \r\nQ 28.609375 43.5 25.5625 39.328125 \r\nQ 22.515625 35.15625 22.515625 27.296875 \r\nQ 22.515625 19.4375 25.5625 15.25 \r\nQ 28.609375 11.078125 34.421875 11.078125 \r\nQ 40.140625 11.078125 43.15625 15.25 \r\nQ 46.1875 19.4375 46.1875 27.296875 \r\nQ 46.1875 35.15625 43.15625 39.328125 \r\nQ 40.140625 43.5 34.421875 43.5 \r\nz\r\nM 34.421875 56 \r\nQ 48.53125 56 56.46875 48.375 \r\nQ 64.40625 40.765625 64.40625 27.296875 \r\nQ 64.40625 13.8125 56.46875 6.1875 \r\nQ 48.53125 -1.421875 34.421875 -1.421875 \r\nQ 20.265625 -1.421875 12.28125 6.1875 \r\nQ 4.296875 13.8125 4.296875 27.296875 \r\nQ 4.296875 40.765625 12.28125 48.375 \r\nQ 20.265625 56 34.421875 56 \r\nz\r\n\" id=\"DejaVuSans-Bold-111\"/>\r\n       <path d=\"M 63.375 33.296875 \r\nL 63.375 0 \r\nL 45.796875 0 \r\nL 45.796875 5.421875 \r\nL 45.796875 25.484375 \r\nQ 45.796875 32.5625 45.484375 35.25 \r\nQ 45.171875 37.9375 44.390625 39.203125 \r\nQ 43.359375 40.921875 41.59375 41.875 \r\nQ 39.84375 42.828125 37.59375 42.828125 \r\nQ 32.125 42.828125 29 38.59375 \r\nQ 25.875 34.375 25.875 26.90625 \r\nL 25.875 0 \r\nL 8.40625 0 \r\nL 8.40625 54.6875 \r\nL 25.875 54.6875 \r\nL 25.875 46.6875 \r\nQ 29.828125 51.46875 34.265625 53.734375 \r\nQ 38.71875 56 44.09375 56 \r\nQ 53.5625 56 58.46875 50.1875 \r\nQ 63.375 44.390625 63.375 33.296875 \r\nz\r\n\" id=\"DejaVuSans-Bold-110\"/>\r\n       <path d=\"M 62.984375 27.484375 \r\nL 62.984375 22.515625 \r\nL 22.125 22.515625 \r\nQ 22.75 16.359375 26.5625 13.28125 \r\nQ 30.375 10.203125 37.203125 10.203125 \r\nQ 42.71875 10.203125 48.5 11.84375 \r\nQ 54.296875 13.484375 60.40625 16.796875 \r\nL 60.40625 3.328125 \r\nQ 54.203125 0.984375 48 -0.21875 \r\nQ 41.796875 -1.421875 35.59375 -1.421875 \r\nQ 20.75 -1.421875 12.515625 6.125 \r\nQ 4.296875 13.671875 4.296875 27.296875 \r\nQ 4.296875 40.671875 12.375 48.328125 \r\nQ 20.453125 56 34.625 56 \r\nQ 47.515625 56 55.25 48.234375 \r\nQ 62.984375 40.484375 62.984375 27.484375 \r\nz\r\nM 45.015625 33.296875 \r\nQ 45.015625 38.28125 42.109375 41.328125 \r\nQ 39.203125 44.390625 34.515625 44.390625 \r\nQ 29.4375 44.390625 26.265625 41.53125 \r\nQ 23.09375 38.671875 22.3125 33.296875 \r\nz\r\n\" id=\"DejaVuSans-Bold-101\"/>\r\n       <path d=\"M 51.125 52.984375 \r\nL 51.125 39.703125 \r\nQ 45.515625 42.046875 40.28125 43.21875 \r\nQ 35.0625 44.390625 30.421875 44.390625 \r\nQ 25.4375 44.390625 23.015625 43.140625 \r\nQ 20.609375 41.890625 20.609375 39.3125 \r\nQ 20.609375 37.203125 22.4375 36.078125 \r\nQ 24.265625 34.96875 29 34.421875 \r\nL 32.078125 33.984375 \r\nQ 45.515625 32.28125 50.140625 28.375 \r\nQ 54.78125 24.46875 54.78125 16.109375 \r\nQ 54.78125 7.375 48.328125 2.96875 \r\nQ 41.890625 -1.421875 29.109375 -1.421875 \r\nQ 23.6875 -1.421875 17.890625 -0.5625 \r\nQ 12.109375 0.296875 6 2 \r\nL 6 15.28125 \r\nQ 11.234375 12.75 16.71875 11.46875 \r\nQ 22.21875 10.203125 27.875 10.203125 \r\nQ 33.015625 10.203125 35.59375 11.609375 \r\nQ 38.1875 13.03125 38.1875 15.828125 \r\nQ 38.1875 18.171875 36.40625 19.3125 \r\nQ 34.625 20.453125 29.296875 21.09375 \r\nL 26.21875 21.484375 \r\nQ 14.546875 22.953125 9.859375 26.90625 \r\nQ 5.171875 30.859375 5.171875 38.921875 \r\nQ 5.171875 47.609375 11.125 51.796875 \r\nQ 17.09375 56 29.390625 56 \r\nQ 34.234375 56 39.546875 55.265625 \r\nQ 44.875 54.546875 51.125 52.984375 \r\nz\r\n\" id=\"DejaVuSans-Bold-115\"/>\r\n      </defs>\r\n      <use xlink:href=\"#DejaVuSans-Bold-112\"/>\r\n      <use x=\"71.582031\" xlink:href=\"#DejaVuSans-Bold-97\"/>\r\n      <use x=\"139.0625\" xlink:href=\"#DejaVuSans-Bold-116\"/>\r\n      <use x=\"186.865234\" xlink:href=\"#DejaVuSans-Bold-114\"/>\r\n      <use x=\"236.181641\" xlink:href=\"#DejaVuSans-Bold-111\"/>\r\n      <use x=\"304.882812\" xlink:href=\"#DejaVuSans-Bold-110\"/>\r\n      <use x=\"376.074219\" xlink:href=\"#DejaVuSans-Bold-101\"/>\r\n      <use x=\"443.896484\" xlink:href=\"#DejaVuSans-Bold-115\"/>\r\n     </g>\r\n    </g>\r\n   </g>\r\n   <g id=\"line2d_15\">\r\n    <path clip-path=\"url(#pb56111744d)\" d=\"M 57.011932 32.681761 \r\nL 60.21576 96.925398 \r\nL 63.419587 136.459943 \r\nL 66.623415 136.459943 \r\nL 69.827243 151.285398 \r\nL 73.031071 171.05267 \r\nL 76.234898 185.878125 \r\nL 79.438726 185.878125 \r\nL 82.642554 185.878125 \r\nL 85.846382 185.878125 \r\nL 89.050209 190.819943 \r\nL 92.254037 200.70358 \r\nL 95.457865 205.645398 \r\nL 98.661693 205.645398 \r\nL 101.86552 205.645398 \r\nL 105.069348 205.645398 \r\nL 108.273176 205.645398 \r\nL 111.477004 210.587216 \r\nL 114.680831 210.587216 \r\nL 117.884659 210.587216 \r\nL 121.088487 210.587216 \r\nL 124.292315 210.587216 \r\nL 127.496142 210.587216 \r\nL 130.69997 210.587216 \r\nL 133.903798 210.587216 \r\nL 137.107626 210.587216 \r\nL 140.311453 210.587216 \r\nL 143.515281 210.587216 \r\nL 146.719109 210.587216 \r\nL 149.922937 210.587216 \r\nL 153.126764 215.529034 \r\nL 156.330592 215.529034 \r\nL 159.53442 215.529034 \r\nL 162.738248 220.470852 \r\nL 165.942075 220.470852 \r\nL 169.145903 220.470852 \r\nL 172.349731 220.470852 \r\nL 175.553559 220.470852 \r\nL 178.757386 220.470852 \r\nL 181.961214 220.470852 \r\nL 185.165042 220.470852 \r\nL 188.36887 220.470852 \r\nL 191.572697 220.470852 \r\nL 194.776525 220.470852 \r\nL 197.980353 220.470852 \r\nL 201.184181 220.470852 \r\nL 204.388008 220.470852 \r\nL 207.591836 220.470852 \r\nL 210.795664 220.470852 \r\nL 213.999492 220.470852 \r\nL 217.203319 220.470852 \r\nL 220.407147 220.470852 \r\nL 223.610975 220.470852 \r\nL 226.814803 220.470852 \r\nL 230.01863 220.470852 \r\nL 233.222458 225.41267 \r\nL 236.426286 225.41267 \r\nL 239.630114 225.41267 \r\nL 242.833941 225.41267 \r\nL 246.037769 225.41267 \r\nL 249.241597 225.41267 \r\nL 252.445425 230.354489 \r\nL 255.649252 230.354489 \r\nL 258.85308 230.354489 \r\nL 262.056908 230.354489 \r\nL 265.260736 230.354489 \r\nL 268.464563 230.354489 \r\nL 271.668391 230.354489 \r\nL 274.872219 230.354489 \r\nL 278.076047 230.354489 \r\nL 281.279874 230.354489 \r\nL 284.483702 230.354489 \r\nL 287.68753 230.354489 \r\nL 290.891358 230.354489 \r\nL 294.095185 230.354489 \r\nL 297.299013 230.354489 \r\nL 300.502841 230.354489 \r\nL 303.706669 230.354489 \r\nL 306.910496 230.354489 \r\nL 310.114324 230.354489 \r\nL 313.318152 230.354489 \r\nL 316.52198 230.354489 \r\nL 319.725807 230.354489 \r\nL 322.929635 230.354489 \r\nL 326.133463 230.354489 \r\nL 329.337291 230.354489 \r\nL 332.541118 230.354489 \r\nL 335.744946 230.354489 \r\nL 338.948774 230.354489 \r\nL 342.152602 230.354489 \r\nL 345.356429 230.354489 \r\nL 348.560257 230.354489 \r\nL 351.764085 230.354489 \r\nL 354.967913 230.354489 \r\nL 358.17174 230.354489 \r\nL 361.375568 230.354489 \r\n\" style=\"fill:none;stroke:#1f77b4;stroke-linecap:square;stroke-width:1.5;\"/>\r\n   </g>\r\n   <g id=\"patch_3\">\r\n    <path d=\"M 41.79375 240.238125 \r\nL 41.79375 22.798125 \r\n\" style=\"fill:none;stroke:#000000;stroke-linecap:square;stroke-linejoin:miter;stroke-width:0.8;\"/>\r\n   </g>\r\n   <g id=\"patch_4\">\r\n    <path d=\"M 376.59375 240.238125 \r\nL 376.59375 22.798125 \r\n\" style=\"fill:none;stroke:#000000;stroke-linecap:square;stroke-linejoin:miter;stroke-width:0.8;\"/>\r\n   </g>\r\n   <g id=\"patch_5\">\r\n    <path d=\"M 41.79375 240.238125 \r\nL 376.59375 240.238125 \r\n\" style=\"fill:none;stroke:#000000;stroke-linecap:square;stroke-linejoin:miter;stroke-width:0.8;\"/>\r\n   </g>\r\n   <g id=\"patch_6\">\r\n    <path d=\"M 41.79375 22.798125 \r\nL 376.59375 22.798125 \r\n\" style=\"fill:none;stroke:#000000;stroke-linecap:square;stroke-linejoin:miter;stroke-width:0.8;\"/>\r\n   </g>\r\n   <g id=\"text_17\">\r\n    <!-- Experimento día/noche -->\r\n    <g transform=\"translate(131.289375 16.798125)scale(0.12 -0.12)\">\r\n     <defs>\r\n      <path d=\"M 9.1875 72.90625 \r\nL 59.90625 72.90625 \r\nL 59.90625 58.6875 \r\nL 27.984375 58.6875 \r\nL 27.984375 45.125 \r\nL 58.015625 45.125 \r\nL 58.015625 30.90625 \r\nL 27.984375 30.90625 \r\nL 27.984375 14.203125 \r\nL 60.984375 14.203125 \r\nL 60.984375 0 \r\nL 9.1875 0 \r\nz\r\n\" id=\"DejaVuSans-Bold-69\"/>\r\n      <path d=\"M 22.21875 27.984375 \r\nL 2.484375 54.6875 \r\nL 21 54.6875 \r\nL 32.171875 38.484375 \r\nL 43.5 54.6875 \r\nL 62.015625 54.6875 \r\nL 42.28125 28.078125 \r\nL 62.984375 0 \r\nL 44.484375 0 \r\nL 32.171875 17.28125 \r\nL 20.015625 0 \r\nL 1.515625 0 \r\nz\r\n\" id=\"DejaVuSans-Bold-120\"/>\r\n      <path d=\"M 8.40625 54.6875 \r\nL 25.875 54.6875 \r\nL 25.875 0 \r\nL 8.40625 0 \r\nz\r\nM 8.40625 75.984375 \r\nL 25.875 75.984375 \r\nL 25.875 61.71875 \r\nL 8.40625 61.71875 \r\nz\r\n\" id=\"DejaVuSans-Bold-105\"/>\r\n      <path id=\"DejaVuSans-Bold-32\"/>\r\n      <path d=\"M 45.609375 46.6875 \r\nL 45.609375 75.984375 \r\nL 63.1875 75.984375 \r\nL 63.1875 0 \r\nL 45.609375 0 \r\nL 45.609375 7.90625 \r\nQ 42 3.078125 37.640625 0.828125 \r\nQ 33.296875 -1.421875 27.59375 -1.421875 \r\nQ 17.484375 -1.421875 10.984375 6.609375 \r\nQ 4.5 14.65625 4.5 27.296875 \r\nQ 4.5 39.9375 10.984375 47.96875 \r\nQ 17.484375 56 27.59375 56 \r\nQ 33.25 56 37.625 53.734375 \r\nQ 42 51.46875 45.609375 46.6875 \r\nz\r\nM 34.078125 11.28125 \r\nQ 39.703125 11.28125 42.65625 15.375 \r\nQ 45.609375 19.484375 45.609375 27.296875 \r\nQ 45.609375 35.109375 42.65625 39.203125 \r\nQ 39.703125 43.3125 34.078125 43.3125 \r\nQ 28.515625 43.3125 25.5625 39.203125 \r\nQ 22.609375 35.109375 22.609375 27.296875 \r\nQ 22.609375 19.484375 25.5625 15.375 \r\nQ 28.515625 11.28125 34.078125 11.28125 \r\nz\r\n\" id=\"DejaVuSans-Bold-100\"/>\r\n      <path d=\"M 8.40625 54.6875 \r\nL 25.875 54.6875 \r\nL 25.875 0 \r\nL 8.40625 0 \r\nz\r\nM 24.90625 79.984375 \r\nL 38.71875 79.984375 \r\nL 20.703125 61.625 \r\nL 11.140625 61.625 \r\nz\r\n\" id=\"DejaVuSans-Bold-237\"/>\r\n      <path d=\"M 25.6875 72.90625 \r\nL 36.53125 72.90625 \r\nL 10.796875 -9.28125 \r\nL 0 -9.28125 \r\nz\r\n\" id=\"DejaVuSans-Bold-47\"/>\r\n      <path d=\"M 52.59375 52.984375 \r\nL 52.59375 38.71875 \r\nQ 49.03125 41.15625 45.4375 42.328125 \r\nQ 41.84375 43.5 37.984375 43.5 \r\nQ 30.671875 43.5 26.59375 39.234375 \r\nQ 22.515625 34.96875 22.515625 27.296875 \r\nQ 22.515625 19.625 26.59375 15.34375 \r\nQ 30.671875 11.078125 37.984375 11.078125 \r\nQ 42.09375 11.078125 45.78125 12.296875 \r\nQ 49.46875 13.53125 52.59375 15.921875 \r\nL 52.59375 1.609375 \r\nQ 48.484375 0.09375 44.265625 -0.65625 \r\nQ 40.046875 -1.421875 35.796875 -1.421875 \r\nQ 21 -1.421875 12.640625 6.171875 \r\nQ 4.296875 13.765625 4.296875 27.296875 \r\nQ 4.296875 40.828125 12.640625 48.40625 \r\nQ 21 56 35.796875 56 \r\nQ 40.09375 56 44.265625 55.25 \r\nQ 48.4375 54.5 52.59375 52.984375 \r\nz\r\n\" id=\"DejaVuSans-Bold-99\"/>\r\n      <path d=\"M 63.375 33.296875 \r\nL 63.375 0 \r\nL 45.796875 0 \r\nL 45.796875 5.421875 \r\nL 45.796875 25.390625 \r\nQ 45.796875 32.5625 45.484375 35.25 \r\nQ 45.171875 37.9375 44.390625 39.203125 \r\nQ 43.359375 40.921875 41.59375 41.875 \r\nQ 39.84375 42.828125 37.59375 42.828125 \r\nQ 32.125 42.828125 29 38.59375 \r\nQ 25.875 34.375 25.875 26.90625 \r\nL 25.875 0 \r\nL 8.40625 0 \r\nL 8.40625 75.984375 \r\nL 25.875 75.984375 \r\nL 25.875 46.6875 \r\nQ 29.828125 51.46875 34.265625 53.734375 \r\nQ 38.71875 56 44.09375 56 \r\nQ 53.5625 56 58.46875 50.1875 \r\nQ 63.375 44.390625 63.375 33.296875 \r\nz\r\n\" id=\"DejaVuSans-Bold-104\"/>\r\n     </defs>\r\n     <use xlink:href=\"#DejaVuSans-Bold-69\"/>\r\n     <use x=\"68.310547\" xlink:href=\"#DejaVuSans-Bold-120\"/>\r\n     <use x=\"132.8125\" xlink:href=\"#DejaVuSans-Bold-112\"/>\r\n     <use x=\"204.394531\" xlink:href=\"#DejaVuSans-Bold-101\"/>\r\n     <use x=\"272.216797\" xlink:href=\"#DejaVuSans-Bold-114\"/>\r\n     <use x=\"321.533203\" xlink:href=\"#DejaVuSans-Bold-105\"/>\r\n     <use x=\"355.810547\" xlink:href=\"#DejaVuSans-Bold-109\"/>\r\n     <use x=\"460.009766\" xlink:href=\"#DejaVuSans-Bold-101\"/>\r\n     <use x=\"527.832031\" xlink:href=\"#DejaVuSans-Bold-110\"/>\r\n     <use x=\"599.023438\" xlink:href=\"#DejaVuSans-Bold-116\"/>\r\n     <use x=\"646.826172\" xlink:href=\"#DejaVuSans-Bold-111\"/>\r\n     <use x=\"715.527344\" xlink:href=\"#DejaVuSans-Bold-32\"/>\r\n     <use x=\"750.341797\" xlink:href=\"#DejaVuSans-Bold-100\"/>\r\n     <use x=\"821.923828\" xlink:href=\"#DejaVuSans-Bold-237\"/>\r\n     <use x=\"856.201172\" xlink:href=\"#DejaVuSans-Bold-97\"/>\r\n     <use x=\"923.681641\" xlink:href=\"#DejaVuSans-Bold-47\"/>\r\n     <use x=\"960.205078\" xlink:href=\"#DejaVuSans-Bold-110\"/>\r\n     <use x=\"1031.396484\" xlink:href=\"#DejaVuSans-Bold-111\"/>\r\n     <use x=\"1100.097656\" xlink:href=\"#DejaVuSans-Bold-99\"/>\r\n     <use x=\"1159.375\" xlink:href=\"#DejaVuSans-Bold-104\"/>\r\n     <use x=\"1230.566406\" xlink:href=\"#DejaVuSans-Bold-101\"/>\r\n    </g>\r\n   </g>\r\n  </g>\r\n </g>\r\n <defs>\r\n  <clipPath id=\"pb56111744d\">\r\n   <rect height=\"217.44\" width=\"334.8\" x=\"41.79375\" y=\"22.798125\"/>\r\n  </clipPath>\r\n </defs>\r\n</svg>\r\n",
            "image/png": "[encoded data removed]"
          },
          "metadata": {
            "tags": [],
            "needs_background": "light"
          }
        }
      ]
    },
    {
      "cell_type": "code",
      "metadata": {
        "id": "_oLH36Zw11zk",
        "outputId": "e9d2a718-158d-4fcc-aae0-2a966f7c30c5"
      },
      "source": [
        "ex1_1.grafica_umbrales()"
      ],
      "execution_count": null,
      "outputs": [
        {
          "output_type": "display_data",
          "data": {
            "text/plain": [
              "<Figure size 432x288 with 1 Axes>"
            ],
            "image/svg+xml": "<?xml version=\"1.0\" encoding=\"utf-8\" standalone=\"no\"?>\r\n<!DOCTYPE svg PUBLIC \"-//W3C//DTD SVG 1.1//EN\"\r\n  \"http://www.w3.org/Graphics/SVG/1.1/DTD/svg11.dtd\">\r\n<!-- Created with matplotlib (https://matplotlib.org/) -->\r\n<svg height=\"277.794375pt\" version=\"1.1\" viewBox=\"0 0 383.79375 277.794375\" width=\"383.79375pt\" xmlns=\"http://www.w3.org/2000/svg\" xmlns:xlink=\"http://www.w3.org/1999/xlink\">\r\n <metadata>\r\n  <rdf:RDF xmlns:cc=\"http://creativecommons.org/ns#\" xmlns:dc=\"http://purl.org/dc/elements/1.1/\" xmlns:rdf=\"http://www.w3.org/1999/02/22-rdf-syntax-ns#\">\r\n   <cc:Work>\r\n    <dc:type rdf:resource=\"http://purl.org/dc/dcmitype/StillImage\"/>\r\n    <dc:date>2021-01-26T16:28:57.379943</dc:date>\r\n    <dc:format>image/svg+xml</dc:format>\r\n    <dc:creator>\r\n     <cc:Agent>\r\n      <dc:title>Matplotlib v3.3.2, https://matplotlib.org/</dc:title>\r\n     </cc:Agent>\r\n    </dc:creator>\r\n   </cc:Work>\r\n  </rdf:RDF>\r\n </metadata>\r\n <defs>\r\n  <style type=\"text/css\">*{stroke-linecap:butt;stroke-linejoin:round;}</style>\r\n </defs>\r\n <g id=\"figure_1\">\r\n  <g id=\"patch_1\">\r\n   <path d=\"M 0 277.794375 \r\nL 383.79375 277.794375 \r\nL 383.79375 0 \r\nL 0 0 \r\nz\r\n\" style=\"fill:none;\"/>\r\n  </g>\r\n  <g id=\"axes_1\">\r\n   <g id=\"patch_2\">\r\n    <path d=\"M 41.79375 240.238125 \r\nL 376.59375 240.238125 \r\nL 376.59375 22.798125 \r\nL 41.79375 22.798125 \r\nz\r\n\" style=\"fill:#ffffff;\"/>\r\n   </g>\r\n   <g id=\"matplotlib.axis_1\">\r\n    <g id=\"xtick_1\">\r\n     <g id=\"line2d_1\">\r\n      <defs>\r\n       <path d=\"M 0 0 \r\nL 0 3.5 \r\n\" id=\"m67ec3086f3\" style=\"stroke:#000000;stroke-width:0.8;\"/>\r\n      </defs>\r\n      <g>\r\n       <use style=\"stroke:#000000;stroke-width:0.8;\" x=\"105.069348\" xlink:href=\"#m67ec3086f3\" y=\"240.238125\"/>\r\n      </g>\r\n     </g>\r\n     <g id=\"text_1\">\r\n      <!-- 0.2 -->\r\n      <g transform=\"translate(96.212317 254.836563)scale(0.1 -0.1)\">\r\n       <defs>\r\n        <path d=\"M 46 36.53125 \r\nQ 46 50.203125 43.4375 55.78125 \r\nQ 40.875 61.375 34.8125 61.375 \r\nQ 28.765625 61.375 26.171875 55.78125 \r\nQ 23.578125 50.203125 23.578125 36.53125 \r\nQ 23.578125 22.703125 26.171875 17.03125 \r\nQ 28.765625 11.375 34.8125 11.375 \r\nQ 40.828125 11.375 43.40625 17.03125 \r\nQ 46 22.703125 46 36.53125 \r\nz\r\nM 64.796875 36.375 \r\nQ 64.796875 18.265625 56.984375 8.421875 \r\nQ 49.171875 -1.421875 34.8125 -1.421875 \r\nQ 20.40625 -1.421875 12.59375 8.421875 \r\nQ 4.78125 18.265625 4.78125 36.375 \r\nQ 4.78125 54.546875 12.59375 64.375 \r\nQ 20.40625 74.21875 34.8125 74.21875 \r\nQ 49.171875 74.21875 56.984375 64.375 \r\nQ 64.796875 54.546875 64.796875 36.375 \r\nz\r\n\" id=\"DejaVuSans-Bold-48\"/>\r\n        <path d=\"M 10.203125 18.890625 \r\nL 27.78125 18.890625 \r\nL 27.78125 0 \r\nL 10.203125 0 \r\nz\r\n\" id=\"DejaVuSans-Bold-46\"/>\r\n        <path d=\"M 28.8125 13.8125 \r\nL 60.890625 13.8125 \r\nL 60.890625 0 \r\nL 7.90625 0 \r\nL 7.90625 13.8125 \r\nL 34.515625 37.3125 \r\nQ 38.09375 40.53125 39.796875 43.609375 \r\nQ 41.5 46.6875 41.5 50 \r\nQ 41.5 55.125 38.0625 58.25 \r\nQ 34.625 61.375 28.90625 61.375 \r\nQ 24.515625 61.375 19.28125 59.5 \r\nQ 14.0625 57.625 8.109375 53.90625 \r\nL 8.109375 69.921875 \r\nQ 14.453125 72.015625 20.65625 73.109375 \r\nQ 26.859375 74.21875 32.8125 74.21875 \r\nQ 45.90625 74.21875 53.15625 68.453125 \r\nQ 60.40625 62.703125 60.40625 52.390625 \r\nQ 60.40625 46.4375 57.328125 41.28125 \r\nQ 54.25 36.140625 44.390625 27.484375 \r\nz\r\n\" id=\"DejaVuSans-Bold-50\"/>\r\n       </defs>\r\n       <use xlink:href=\"#DejaVuSans-Bold-48\"/>\r\n       <use x=\"69.580078\" xlink:href=\"#DejaVuSans-Bold-46\"/>\r\n       <use x=\"107.568359\" xlink:href=\"#DejaVuSans-Bold-50\"/>\r\n      </g>\r\n     </g>\r\n    </g>\r\n    <g id=\"xtick_2\">\r\n     <g id=\"line2d_2\">\r\n      <g>\r\n       <use style=\"stroke:#000000;stroke-width:0.8;\" x=\"169.145903\" xlink:href=\"#m67ec3086f3\" y=\"240.238125\"/>\r\n      </g>\r\n     </g>\r\n     <g id=\"text_2\">\r\n      <!-- 0.4 -->\r\n      <g transform=\"translate(160.288872 254.836563)scale(0.1 -0.1)\">\r\n       <defs>\r\n        <path d=\"M 36.8125 57.421875 \r\nL 16.21875 26.90625 \r\nL 36.8125 26.90625 \r\nz\r\nM 33.6875 72.90625 \r\nL 54.59375 72.90625 \r\nL 54.59375 26.90625 \r\nL 64.984375 26.90625 \r\nL 64.984375 13.28125 \r\nL 54.59375 13.28125 \r\nL 54.59375 0 \r\nL 36.8125 0 \r\nL 36.8125 13.28125 \r\nL 4.5 13.28125 \r\nL 4.5 29.390625 \r\nz\r\n\" id=\"DejaVuSans-Bold-52\"/>\r\n       </defs>\r\n       <use xlink:href=\"#DejaVuSans-Bold-48\"/>\r\n       <use x=\"69.580078\" xlink:href=\"#DejaVuSans-Bold-46\"/>\r\n       <use x=\"107.568359\" xlink:href=\"#DejaVuSans-Bold-52\"/>\r\n      </g>\r\n     </g>\r\n    </g>\r\n    <g id=\"xtick_3\">\r\n     <g id=\"line2d_3\">\r\n      <g>\r\n       <use style=\"stroke:#000000;stroke-width:0.8;\" x=\"233.222458\" xlink:href=\"#m67ec3086f3\" y=\"240.238125\"/>\r\n      </g>\r\n     </g>\r\n     <g id=\"text_3\">\r\n      <!-- 0.6 -->\r\n      <g transform=\"translate(224.365427 254.836563)scale(0.1 -0.1)\">\r\n       <defs>\r\n        <path d=\"M 36.1875 35.984375 \r\nQ 31.25 35.984375 28.78125 32.78125 \r\nQ 26.3125 29.59375 26.3125 23.1875 \r\nQ 26.3125 16.796875 28.78125 13.59375 \r\nQ 31.25 10.40625 36.1875 10.40625 \r\nQ 41.15625 10.40625 43.625 13.59375 \r\nQ 46.09375 16.796875 46.09375 23.1875 \r\nQ 46.09375 29.59375 43.625 32.78125 \r\nQ 41.15625 35.984375 36.1875 35.984375 \r\nz\r\nM 59.421875 71 \r\nL 59.421875 57.515625 \r\nQ 54.78125 59.71875 50.671875 60.765625 \r\nQ 46.578125 61.8125 42.671875 61.8125 \r\nQ 34.28125 61.8125 29.59375 57.140625 \r\nQ 24.90625 52.484375 24.125 43.3125 \r\nQ 27.34375 45.703125 31.09375 46.890625 \r\nQ 34.859375 48.09375 39.3125 48.09375 \r\nQ 50.484375 48.09375 57.34375 41.546875 \r\nQ 64.203125 35.015625 64.203125 24.421875 \r\nQ 64.203125 12.703125 56.53125 5.640625 \r\nQ 48.875 -1.421875 35.984375 -1.421875 \r\nQ 21.78125 -1.421875 13.984375 8.171875 \r\nQ 6.203125 17.78125 6.203125 35.40625 \r\nQ 6.203125 53.46875 15.3125 63.796875 \r\nQ 24.421875 74.125 40.28125 74.125 \r\nQ 45.3125 74.125 50.046875 73.34375 \r\nQ 54.78125 72.5625 59.421875 71 \r\nz\r\n\" id=\"DejaVuSans-Bold-54\"/>\r\n       </defs>\r\n       <use xlink:href=\"#DejaVuSans-Bold-48\"/>\r\n       <use x=\"69.580078\" xlink:href=\"#DejaVuSans-Bold-46\"/>\r\n       <use x=\"107.568359\" xlink:href=\"#DejaVuSans-Bold-54\"/>\r\n      </g>\r\n     </g>\r\n    </g>\r\n    <g id=\"xtick_4\">\r\n     <g id=\"line2d_4\">\r\n      <g>\r\n       <use style=\"stroke:#000000;stroke-width:0.8;\" x=\"297.299013\" xlink:href=\"#m67ec3086f3\" y=\"240.238125\"/>\r\n      </g>\r\n     </g>\r\n     <g id=\"text_4\">\r\n      <!-- 0.8 -->\r\n      <g transform=\"translate(288.441982 254.836563)scale(0.1 -0.1)\">\r\n       <defs>\r\n        <path d=\"M 34.8125 32.625 \r\nQ 29.546875 32.625 26.703125 29.734375 \r\nQ 23.875 26.859375 23.875 21.484375 \r\nQ 23.875 16.109375 26.703125 13.25 \r\nQ 29.546875 10.40625 34.8125 10.40625 \r\nQ 40.046875 10.40625 42.828125 13.25 \r\nQ 45.609375 16.109375 45.609375 21.484375 \r\nQ 45.609375 26.90625 42.828125 29.765625 \r\nQ 40.046875 32.625 34.8125 32.625 \r\nz\r\nM 21.09375 38.8125 \r\nQ 14.453125 40.828125 11.078125 44.96875 \r\nQ 7.71875 49.125 7.71875 55.328125 \r\nQ 7.71875 64.546875 14.59375 69.375 \r\nQ 21.484375 74.21875 34.8125 74.21875 \r\nQ 48.046875 74.21875 54.921875 69.40625 \r\nQ 61.8125 64.59375 61.8125 55.328125 \r\nQ 61.8125 49.125 58.421875 44.96875 \r\nQ 55.03125 40.828125 48.390625 38.8125 \r\nQ 55.8125 36.765625 59.59375 32.15625 \r\nQ 63.375 27.546875 63.375 20.515625 \r\nQ 63.375 9.671875 56.171875 4.125 \r\nQ 48.96875 -1.421875 34.8125 -1.421875 \r\nQ 20.609375 -1.421875 13.359375 4.125 \r\nQ 6.109375 9.671875 6.109375 20.515625 \r\nQ 6.109375 27.546875 9.890625 32.15625 \r\nQ 13.671875 36.765625 21.09375 38.8125 \r\nz\r\nM 25.484375 53.421875 \r\nQ 25.484375 49.078125 27.90625 46.734375 \r\nQ 30.328125 44.390625 34.8125 44.390625 \r\nQ 39.203125 44.390625 41.59375 46.734375 \r\nQ 44 49.078125 44 53.421875 \r\nQ 44 57.765625 41.59375 60.078125 \r\nQ 39.203125 62.40625 34.8125 62.40625 \r\nQ 30.328125 62.40625 27.90625 60.0625 \r\nQ 25.484375 57.71875 25.484375 53.421875 \r\nz\r\n\" id=\"DejaVuSans-Bold-56\"/>\r\n       </defs>\r\n       <use xlink:href=\"#DejaVuSans-Bold-48\"/>\r\n       <use x=\"69.580078\" xlink:href=\"#DejaVuSans-Bold-46\"/>\r\n       <use x=\"107.568359\" xlink:href=\"#DejaVuSans-Bold-56\"/>\r\n      </g>\r\n     </g>\r\n    </g>\r\n    <g id=\"xtick_5\">\r\n     <g id=\"line2d_5\">\r\n      <g>\r\n       <use style=\"stroke:#000000;stroke-width:0.8;\" x=\"361.375568\" xlink:href=\"#m67ec3086f3\" y=\"240.238125\"/>\r\n      </g>\r\n     </g>\r\n     <g id=\"text_5\">\r\n      <!-- 1.0 -->\r\n      <g transform=\"translate(352.518537 254.836563)scale(0.1 -0.1)\">\r\n       <defs>\r\n        <path d=\"M 11.71875 12.984375 \r\nL 28.328125 12.984375 \r\nL 28.328125 60.109375 \r\nL 11.28125 56.59375 \r\nL 11.28125 69.390625 \r\nL 28.21875 72.90625 \r\nL 46.09375 72.90625 \r\nL 46.09375 12.984375 \r\nL 62.703125 12.984375 \r\nL 62.703125 0 \r\nL 11.71875 0 \r\nz\r\n\" id=\"DejaVuSans-Bold-49\"/>\r\n       </defs>\r\n       <use xlink:href=\"#DejaVuSans-Bold-49\"/>\r\n       <use x=\"69.580078\" xlink:href=\"#DejaVuSans-Bold-46\"/>\r\n       <use x=\"107.568359\" xlink:href=\"#DejaVuSans-Bold-48\"/>\r\n      </g>\r\n     </g>\r\n    </g>\r\n    <g id=\"text_6\">\r\n     <!-- umbral -->\r\n     <g transform=\"translate(189.291406 268.514687)scale(0.1 -0.1)\">\r\n      <defs>\r\n       <path d=\"M 7.8125 21.296875 \r\nL 7.8125 54.6875 \r\nL 25.390625 54.6875 \r\nL 25.390625 49.21875 \r\nQ 25.390625 44.78125 25.34375 38.0625 \r\nQ 25.296875 31.34375 25.296875 29.109375 \r\nQ 25.296875 22.515625 25.640625 19.609375 \r\nQ 25.984375 16.703125 26.8125 15.375 \r\nQ 27.875 13.671875 29.609375 12.734375 \r\nQ 31.34375 11.8125 33.59375 11.8125 \r\nQ 39.0625 11.8125 42.1875 16.015625 \r\nQ 45.3125 20.21875 45.3125 27.6875 \r\nL 45.3125 54.6875 \r\nL 62.796875 54.6875 \r\nL 62.796875 0 \r\nL 45.3125 0 \r\nL 45.3125 7.90625 \r\nQ 41.359375 3.125 36.9375 0.84375 \r\nQ 32.515625 -1.421875 27.203125 -1.421875 \r\nQ 17.71875 -1.421875 12.765625 4.390625 \r\nQ 7.8125 10.203125 7.8125 21.296875 \r\nz\r\n\" id=\"DejaVuSans-Bold-117\"/>\r\n       <path d=\"M 59.078125 45.609375 \r\nQ 62.40625 50.6875 66.96875 53.34375 \r\nQ 71.53125 56 77 56 \r\nQ 86.421875 56 91.359375 50.1875 \r\nQ 96.296875 44.390625 96.296875 33.296875 \r\nL 96.296875 0 \r\nL 78.71875 0 \r\nL 78.71875 28.515625 \r\nQ 78.765625 29.15625 78.78125 29.828125 \r\nQ 78.8125 30.515625 78.8125 31.78125 \r\nQ 78.8125 37.59375 77.09375 40.203125 \r\nQ 75.390625 42.828125 71.578125 42.828125 \r\nQ 66.609375 42.828125 63.890625 38.71875 \r\nQ 61.1875 34.625 61.078125 26.859375 \r\nL 61.078125 0 \r\nL 43.5 0 \r\nL 43.5 28.515625 \r\nQ 43.5 37.59375 41.9375 40.203125 \r\nQ 40.375 42.828125 36.375 42.828125 \r\nQ 31.34375 42.828125 28.609375 38.703125 \r\nQ 25.875 34.578125 25.875 26.90625 \r\nL 25.875 0 \r\nL 8.296875 0 \r\nL 8.296875 54.6875 \r\nL 25.875 54.6875 \r\nL 25.875 46.6875 \r\nQ 29.109375 51.3125 33.28125 53.65625 \r\nQ 37.453125 56 42.484375 56 \r\nQ 48.140625 56 52.484375 53.265625 \r\nQ 56.84375 50.53125 59.078125 45.609375 \r\nz\r\n\" id=\"DejaVuSans-Bold-109\"/>\r\n       <path d=\"M 37.5 11.28125 \r\nQ 43.109375 11.28125 46.0625 15.375 \r\nQ 49.03125 19.484375 49.03125 27.296875 \r\nQ 49.03125 35.109375 46.0625 39.203125 \r\nQ 43.109375 43.3125 37.5 43.3125 \r\nQ 31.890625 43.3125 28.875 39.1875 \r\nQ 25.875 35.0625 25.875 27.296875 \r\nQ 25.875 19.53125 28.875 15.40625 \r\nQ 31.890625 11.28125 37.5 11.28125 \r\nz\r\nM 25.875 46.6875 \r\nQ 29.5 51.46875 33.890625 53.734375 \r\nQ 38.28125 56 44 56 \r\nQ 54.109375 56 60.59375 47.96875 \r\nQ 67.09375 39.9375 67.09375 27.296875 \r\nQ 67.09375 14.65625 60.59375 6.609375 \r\nQ 54.109375 -1.421875 44 -1.421875 \r\nQ 38.28125 -1.421875 33.890625 0.84375 \r\nQ 29.5 3.125 25.875 7.90625 \r\nL 25.875 0 \r\nL 8.40625 0 \r\nL 8.40625 75.984375 \r\nL 25.875 75.984375 \r\nz\r\n\" id=\"DejaVuSans-Bold-98\"/>\r\n       <path d=\"M 49.03125 39.796875 \r\nQ 46.734375 40.875 44.453125 41.375 \r\nQ 42.1875 41.890625 39.890625 41.890625 \r\nQ 33.15625 41.890625 29.515625 37.5625 \r\nQ 25.875 33.25 25.875 25.203125 \r\nL 25.875 0 \r\nL 8.40625 0 \r\nL 8.40625 54.6875 \r\nL 25.875 54.6875 \r\nL 25.875 45.703125 \r\nQ 29.25 51.078125 33.609375 53.53125 \r\nQ 37.984375 56 44.09375 56 \r\nQ 44.96875 56 45.984375 55.921875 \r\nQ 47.015625 55.859375 48.96875 55.609375 \r\nz\r\n\" id=\"DejaVuSans-Bold-114\"/>\r\n       <path d=\"M 32.90625 24.609375 \r\nQ 27.4375 24.609375 24.671875 22.75 \r\nQ 21.921875 20.90625 21.921875 17.28125 \r\nQ 21.921875 13.96875 24.140625 12.078125 \r\nQ 26.375 10.203125 30.328125 10.203125 \r\nQ 35.25 10.203125 38.625 13.734375 \r\nQ 42 17.28125 42 22.609375 \r\nL 42 24.609375 \r\nz\r\nM 59.625 31.203125 \r\nL 59.625 0 \r\nL 42 0 \r\nL 42 8.109375 \r\nQ 38.484375 3.125 34.078125 0.84375 \r\nQ 29.6875 -1.421875 23.390625 -1.421875 \r\nQ 14.890625 -1.421875 9.59375 3.53125 \r\nQ 4.296875 8.5 4.296875 16.40625 \r\nQ 4.296875 26.03125 10.90625 30.515625 \r\nQ 17.53125 35.015625 31.6875 35.015625 \r\nL 42 35.015625 \r\nL 42 36.375 \r\nQ 42 40.53125 38.71875 42.453125 \r\nQ 35.453125 44.390625 28.515625 44.390625 \r\nQ 22.90625 44.390625 18.0625 43.265625 \r\nQ 13.234375 42.140625 9.078125 39.890625 \r\nL 9.078125 53.21875 \r\nQ 14.703125 54.59375 20.359375 55.296875 \r\nQ 26.03125 56 31.6875 56 \r\nQ 46.484375 56 53.046875 50.171875 \r\nQ 59.625 44.34375 59.625 31.203125 \r\nz\r\n\" id=\"DejaVuSans-Bold-97\"/>\r\n       <path d=\"M 8.40625 75.984375 \r\nL 25.875 75.984375 \r\nL 25.875 0 \r\nL 8.40625 0 \r\nz\r\n\" id=\"DejaVuSans-Bold-108\"/>\r\n      </defs>\r\n      <use xlink:href=\"#DejaVuSans-Bold-117\"/>\r\n      <use x=\"71.191406\" xlink:href=\"#DejaVuSans-Bold-109\"/>\r\n      <use x=\"175.390625\" xlink:href=\"#DejaVuSans-Bold-98\"/>\r\n      <use x=\"246.972656\" xlink:href=\"#DejaVuSans-Bold-114\"/>\r\n      <use x=\"296.289062\" xlink:href=\"#DejaVuSans-Bold-97\"/>\r\n      <use x=\"363.769531\" xlink:href=\"#DejaVuSans-Bold-108\"/>\r\n     </g>\r\n    </g>\r\n   </g>\r\n   <g id=\"matplotlib.axis_2\">\r\n    <g id=\"ytick_1\">\r\n     <g id=\"line2d_6\">\r\n      <defs>\r\n       <path d=\"M 0 0 \r\nL -3.5 0 \r\n\" id=\"m303ed95ce7\" style=\"stroke:#000000;stroke-width:0.8;\"/>\r\n      </defs>\r\n      <g>\r\n       <use style=\"stroke:#000000;stroke-width:0.8;\" x=\"41.79375\" xlink:href=\"#m303ed95ce7\" y=\"230.354489\"/>\r\n      </g>\r\n     </g>\r\n     <g id=\"text_7\">\r\n      <!-- 0 -->\r\n      <g transform=\"translate(27.835938 234.153707)scale(0.1 -0.1)\">\r\n       <use xlink:href=\"#DejaVuSans-Bold-48\"/>\r\n      </g>\r\n     </g>\r\n    </g>\r\n    <g id=\"ytick_2\">\r\n     <g id=\"line2d_7\">\r\n      <g>\r\n       <use style=\"stroke:#000000;stroke-width:0.8;\" x=\"41.79375\" xlink:href=\"#m303ed95ce7\" y=\"202.899943\"/>\r\n      </g>\r\n     </g>\r\n     <g id=\"text_8\">\r\n      <!-- 5 -->\r\n      <g transform=\"translate(27.835938 206.699162)scale(0.1 -0.1)\">\r\n       <defs>\r\n        <path d=\"M 10.59375 72.90625 \r\nL 57.328125 72.90625 \r\nL 57.328125 59.078125 \r\nL 25.59375 59.078125 \r\nL 25.59375 47.796875 \r\nQ 27.734375 48.390625 29.90625 48.703125 \r\nQ 32.078125 49.03125 34.421875 49.03125 \r\nQ 47.75 49.03125 55.171875 42.359375 \r\nQ 62.59375 35.6875 62.59375 23.78125 \r\nQ 62.59375 11.96875 54.515625 5.265625 \r\nQ 46.4375 -1.421875 32.078125 -1.421875 \r\nQ 25.875 -1.421875 19.796875 -0.21875 \r\nQ 13.71875 0.984375 7.71875 3.421875 \r\nL 7.71875 18.21875 \r\nQ 13.671875 14.796875 19.015625 13.078125 \r\nQ 24.359375 11.375 29.109375 11.375 \r\nQ 35.9375 11.375 39.859375 14.71875 \r\nQ 43.796875 18.0625 43.796875 23.78125 \r\nQ 43.796875 29.546875 39.859375 32.859375 \r\nQ 35.9375 36.1875 29.109375 36.1875 \r\nQ 25.046875 36.1875 20.453125 35.125 \r\nQ 15.875 34.078125 10.59375 31.890625 \r\nz\r\n\" id=\"DejaVuSans-Bold-53\"/>\r\n       </defs>\r\n       <use xlink:href=\"#DejaVuSans-Bold-53\"/>\r\n      </g>\r\n     </g>\r\n    </g>\r\n    <g id=\"ytick_3\">\r\n     <g id=\"line2d_8\">\r\n      <g>\r\n       <use style=\"stroke:#000000;stroke-width:0.8;\" x=\"41.79375\" xlink:href=\"#m303ed95ce7\" y=\"175.445398\"/>\r\n      </g>\r\n     </g>\r\n     <g id=\"text_9\">\r\n      <!-- 10 -->\r\n      <g transform=\"translate(20.878125 179.244616)scale(0.1 -0.1)\">\r\n       <use xlink:href=\"#DejaVuSans-Bold-49\"/>\r\n       <use x=\"69.580078\" xlink:href=\"#DejaVuSans-Bold-48\"/>\r\n      </g>\r\n     </g>\r\n    </g>\r\n    <g id=\"ytick_4\">\r\n     <g id=\"line2d_9\">\r\n      <g>\r\n       <use style=\"stroke:#000000;stroke-width:0.8;\" x=\"41.79375\" xlink:href=\"#m303ed95ce7\" y=\"147.990852\"/>\r\n      </g>\r\n     </g>\r\n     <g id=\"text_10\">\r\n      <!-- 15 -->\r\n      <g transform=\"translate(20.878125 151.790071)scale(0.1 -0.1)\">\r\n       <use xlink:href=\"#DejaVuSans-Bold-49\"/>\r\n       <use x=\"69.580078\" xlink:href=\"#DejaVuSans-Bold-53\"/>\r\n      </g>\r\n     </g>\r\n    </g>\r\n    <g id=\"ytick_5\">\r\n     <g id=\"line2d_10\">\r\n      <g>\r\n       <use style=\"stroke:#000000;stroke-width:0.8;\" x=\"41.79375\" xlink:href=\"#m303ed95ce7\" y=\"120.536307\"/>\r\n      </g>\r\n     </g>\r\n     <g id=\"text_11\">\r\n      <!-- 20 -->\r\n      <g transform=\"translate(20.878125 124.335526)scale(0.1 -0.1)\">\r\n       <use xlink:href=\"#DejaVuSans-Bold-50\"/>\r\n       <use x=\"69.580078\" xlink:href=\"#DejaVuSans-Bold-48\"/>\r\n      </g>\r\n     </g>\r\n    </g>\r\n    <g id=\"ytick_6\">\r\n     <g id=\"line2d_11\">\r\n      <g>\r\n       <use style=\"stroke:#000000;stroke-width:0.8;\" x=\"41.79375\" xlink:href=\"#m303ed95ce7\" y=\"93.081761\"/>\r\n      </g>\r\n     </g>\r\n     <g id=\"text_12\">\r\n      <!-- 25 -->\r\n      <g transform=\"translate(20.878125 96.88098)scale(0.1 -0.1)\">\r\n       <use xlink:href=\"#DejaVuSans-Bold-50\"/>\r\n       <use x=\"69.580078\" xlink:href=\"#DejaVuSans-Bold-53\"/>\r\n      </g>\r\n     </g>\r\n    </g>\r\n    <g id=\"ytick_7\">\r\n     <g id=\"line2d_12\">\r\n      <g>\r\n       <use style=\"stroke:#000000;stroke-width:0.8;\" x=\"41.79375\" xlink:href=\"#m303ed95ce7\" y=\"65.627216\"/>\r\n      </g>\r\n     </g>\r\n     <g id=\"text_13\">\r\n      <!-- 30 -->\r\n      <g transform=\"translate(20.878125 69.426435)scale(0.1 -0.1)\">\r\n       <defs>\r\n        <path d=\"M 46.578125 39.3125 \r\nQ 53.953125 37.40625 57.78125 32.6875 \r\nQ 61.625 27.984375 61.625 20.703125 \r\nQ 61.625 9.859375 53.3125 4.21875 \r\nQ 45.015625 -1.421875 29.109375 -1.421875 \r\nQ 23.484375 -1.421875 17.84375 -0.515625 \r\nQ 12.203125 0.390625 6.6875 2.203125 \r\nL 6.6875 16.703125 \r\nQ 11.96875 14.0625 17.15625 12.71875 \r\nQ 22.359375 11.375 27.390625 11.375 \r\nQ 34.859375 11.375 38.84375 13.953125 \r\nQ 42.828125 16.546875 42.828125 21.390625 \r\nQ 42.828125 26.375 38.75 28.9375 \r\nQ 34.671875 31.5 26.703125 31.5 \r\nL 19.1875 31.5 \r\nL 19.1875 43.609375 \r\nL 27.09375 43.609375 \r\nQ 34.1875 43.609375 37.640625 45.828125 \r\nQ 41.109375 48.046875 41.109375 52.59375 \r\nQ 41.109375 56.78125 37.734375 59.078125 \r\nQ 34.375 61.375 28.21875 61.375 \r\nQ 23.6875 61.375 19.046875 60.34375 \r\nQ 14.40625 59.328125 9.8125 57.328125 \r\nL 9.8125 71.09375 \r\nQ 15.375 72.65625 20.84375 73.4375 \r\nQ 26.3125 74.21875 31.59375 74.21875 \r\nQ 45.796875 74.21875 52.84375 69.546875 \r\nQ 59.90625 64.890625 59.90625 55.515625 \r\nQ 59.90625 49.125 56.53125 45.046875 \r\nQ 53.171875 40.96875 46.578125 39.3125 \r\nz\r\n\" id=\"DejaVuSans-Bold-51\"/>\r\n       </defs>\r\n       <use xlink:href=\"#DejaVuSans-Bold-51\"/>\r\n       <use x=\"69.580078\" xlink:href=\"#DejaVuSans-Bold-48\"/>\r\n      </g>\r\n     </g>\r\n    </g>\r\n    <g id=\"ytick_8\">\r\n     <g id=\"line2d_13\">\r\n      <g>\r\n       <use style=\"stroke:#000000;stroke-width:0.8;\" x=\"41.79375\" xlink:href=\"#m303ed95ce7\" y=\"38.17267\"/>\r\n      </g>\r\n     </g>\r\n     <g id=\"text_14\">\r\n      <!-- 35 -->\r\n      <g transform=\"translate(20.878125 41.971889)scale(0.1 -0.1)\">\r\n       <use xlink:href=\"#DejaVuSans-Bold-51\"/>\r\n       <use x=\"69.580078\" xlink:href=\"#DejaVuSans-Bold-53\"/>\r\n      </g>\r\n     </g>\r\n    </g>\r\n    <g id=\"text_15\">\r\n     <!-- patrones -->\r\n     <g transform=\"translate(14.798438 156.688437)rotate(-90)scale(0.1 -0.1)\">\r\n      <defs>\r\n       <path d=\"M 25.875 7.90625 \r\nL 25.875 -20.796875 \r\nL 8.40625 -20.796875 \r\nL 8.40625 54.6875 \r\nL 25.875 54.6875 \r\nL 25.875 46.6875 \r\nQ 29.5 51.46875 33.890625 53.734375 \r\nQ 38.28125 56 44 56 \r\nQ 54.109375 56 60.59375 47.96875 \r\nQ 67.09375 39.9375 67.09375 27.296875 \r\nQ 67.09375 14.65625 60.59375 6.609375 \r\nQ 54.109375 -1.421875 44 -1.421875 \r\nQ 38.28125 -1.421875 33.890625 0.84375 \r\nQ 29.5 3.125 25.875 7.90625 \r\nz\r\nM 37.5 43.3125 \r\nQ 31.890625 43.3125 28.875 39.1875 \r\nQ 25.875 35.0625 25.875 27.296875 \r\nQ 25.875 19.53125 28.875 15.40625 \r\nQ 31.890625 11.28125 37.5 11.28125 \r\nQ 43.109375 11.28125 46.0625 15.375 \r\nQ 49.03125 19.484375 49.03125 27.296875 \r\nQ 49.03125 35.109375 46.0625 39.203125 \r\nQ 43.109375 43.3125 37.5 43.3125 \r\nz\r\n\" id=\"DejaVuSans-Bold-112\"/>\r\n       <path d=\"M 27.484375 70.21875 \r\nL 27.484375 54.6875 \r\nL 45.515625 54.6875 \r\nL 45.515625 42.1875 \r\nL 27.484375 42.1875 \r\nL 27.484375 19 \r\nQ 27.484375 15.1875 29 13.84375 \r\nQ 30.515625 12.5 35.015625 12.5 \r\nL 44 12.5 \r\nL 44 0 \r\nL 29 0 \r\nQ 18.65625 0 14.328125 4.3125 \r\nQ 10.015625 8.640625 10.015625 19 \r\nL 10.015625 42.1875 \r\nL 1.3125 42.1875 \r\nL 1.3125 54.6875 \r\nL 10.015625 54.6875 \r\nL 10.015625 70.21875 \r\nz\r\n\" id=\"DejaVuSans-Bold-116\"/>\r\n       <path d=\"M 34.421875 43.5 \r\nQ 28.609375 43.5 25.5625 39.328125 \r\nQ 22.515625 35.15625 22.515625 27.296875 \r\nQ 22.515625 19.4375 25.5625 15.25 \r\nQ 28.609375 11.078125 34.421875 11.078125 \r\nQ 40.140625 11.078125 43.15625 15.25 \r\nQ 46.1875 19.4375 46.1875 27.296875 \r\nQ 46.1875 35.15625 43.15625 39.328125 \r\nQ 40.140625 43.5 34.421875 43.5 \r\nz\r\nM 34.421875 56 \r\nQ 48.53125 56 56.46875 48.375 \r\nQ 64.40625 40.765625 64.40625 27.296875 \r\nQ 64.40625 13.8125 56.46875 6.1875 \r\nQ 48.53125 -1.421875 34.421875 -1.421875 \r\nQ 20.265625 -1.421875 12.28125 6.1875 \r\nQ 4.296875 13.8125 4.296875 27.296875 \r\nQ 4.296875 40.765625 12.28125 48.375 \r\nQ 20.265625 56 34.421875 56 \r\nz\r\n\" id=\"DejaVuSans-Bold-111\"/>\r\n       <path d=\"M 63.375 33.296875 \r\nL 63.375 0 \r\nL 45.796875 0 \r\nL 45.796875 5.421875 \r\nL 45.796875 25.484375 \r\nQ 45.796875 32.5625 45.484375 35.25 \r\nQ 45.171875 37.9375 44.390625 39.203125 \r\nQ 43.359375 40.921875 41.59375 41.875 \r\nQ 39.84375 42.828125 37.59375 42.828125 \r\nQ 32.125 42.828125 29 38.59375 \r\nQ 25.875 34.375 25.875 26.90625 \r\nL 25.875 0 \r\nL 8.40625 0 \r\nL 8.40625 54.6875 \r\nL 25.875 54.6875 \r\nL 25.875 46.6875 \r\nQ 29.828125 51.46875 34.265625 53.734375 \r\nQ 38.71875 56 44.09375 56 \r\nQ 53.5625 56 58.46875 50.1875 \r\nQ 63.375 44.390625 63.375 33.296875 \r\nz\r\n\" id=\"DejaVuSans-Bold-110\"/>\r\n       <path d=\"M 62.984375 27.484375 \r\nL 62.984375 22.515625 \r\nL 22.125 22.515625 \r\nQ 22.75 16.359375 26.5625 13.28125 \r\nQ 30.375 10.203125 37.203125 10.203125 \r\nQ 42.71875 10.203125 48.5 11.84375 \r\nQ 54.296875 13.484375 60.40625 16.796875 \r\nL 60.40625 3.328125 \r\nQ 54.203125 0.984375 48 -0.21875 \r\nQ 41.796875 -1.421875 35.59375 -1.421875 \r\nQ 20.75 -1.421875 12.515625 6.125 \r\nQ 4.296875 13.671875 4.296875 27.296875 \r\nQ 4.296875 40.671875 12.375 48.328125 \r\nQ 20.453125 56 34.625 56 \r\nQ 47.515625 56 55.25 48.234375 \r\nQ 62.984375 40.484375 62.984375 27.484375 \r\nz\r\nM 45.015625 33.296875 \r\nQ 45.015625 38.28125 42.109375 41.328125 \r\nQ 39.203125 44.390625 34.515625 44.390625 \r\nQ 29.4375 44.390625 26.265625 41.53125 \r\nQ 23.09375 38.671875 22.3125 33.296875 \r\nz\r\n\" id=\"DejaVuSans-Bold-101\"/>\r\n       <path d=\"M 51.125 52.984375 \r\nL 51.125 39.703125 \r\nQ 45.515625 42.046875 40.28125 43.21875 \r\nQ 35.0625 44.390625 30.421875 44.390625 \r\nQ 25.4375 44.390625 23.015625 43.140625 \r\nQ 20.609375 41.890625 20.609375 39.3125 \r\nQ 20.609375 37.203125 22.4375 36.078125 \r\nQ 24.265625 34.96875 29 34.421875 \r\nL 32.078125 33.984375 \r\nQ 45.515625 32.28125 50.140625 28.375 \r\nQ 54.78125 24.46875 54.78125 16.109375 \r\nQ 54.78125 7.375 48.328125 2.96875 \r\nQ 41.890625 -1.421875 29.109375 -1.421875 \r\nQ 23.6875 -1.421875 17.890625 -0.5625 \r\nQ 12.109375 0.296875 6 2 \r\nL 6 15.28125 \r\nQ 11.234375 12.75 16.71875 11.46875 \r\nQ 22.21875 10.203125 27.875 10.203125 \r\nQ 33.015625 10.203125 35.59375 11.609375 \r\nQ 38.1875 13.03125 38.1875 15.828125 \r\nQ 38.1875 18.171875 36.40625 19.3125 \r\nQ 34.625 20.453125 29.296875 21.09375 \r\nL 26.21875 21.484375 \r\nQ 14.546875 22.953125 9.859375 26.90625 \r\nQ 5.171875 30.859375 5.171875 38.921875 \r\nQ 5.171875 47.609375 11.125 51.796875 \r\nQ 17.09375 56 29.390625 56 \r\nQ 34.234375 56 39.546875 55.265625 \r\nQ 44.875 54.546875 51.125 52.984375 \r\nz\r\n\" id=\"DejaVuSans-Bold-115\"/>\r\n      </defs>\r\n      <use xlink:href=\"#DejaVuSans-Bold-112\"/>\r\n      <use x=\"71.582031\" xlink:href=\"#DejaVuSans-Bold-97\"/>\r\n      <use x=\"139.0625\" xlink:href=\"#DejaVuSans-Bold-116\"/>\r\n      <use x=\"186.865234\" xlink:href=\"#DejaVuSans-Bold-114\"/>\r\n      <use x=\"236.181641\" xlink:href=\"#DejaVuSans-Bold-111\"/>\r\n      <use x=\"304.882812\" xlink:href=\"#DejaVuSans-Bold-110\"/>\r\n      <use x=\"376.074219\" xlink:href=\"#DejaVuSans-Bold-101\"/>\r\n      <use x=\"443.896484\" xlink:href=\"#DejaVuSans-Bold-115\"/>\r\n     </g>\r\n    </g>\r\n   </g>\r\n   <g id=\"line2d_14\">\r\n    <path clip-path=\"url(#p6d5a6e7135)\" d=\"M 57.011932 32.681761 \r\nL 60.21576 82.099943 \r\nL 63.419587 120.536307 \r\nL 66.623415 126.027216 \r\nL 69.827243 147.990852 \r\nL 73.031071 158.97267 \r\nL 76.234898 175.445398 \r\nL 79.438726 175.445398 \r\nL 82.642554 175.445398 \r\nL 85.846382 175.445398 \r\nL 89.050209 180.936307 \r\nL 92.254037 197.409034 \r\nL 95.457865 202.899943 \r\nL 98.661693 202.899943 \r\nL 101.86552 202.899943 \r\nL 105.069348 202.899943 \r\nL 108.273176 202.899943 \r\nL 111.477004 202.899943 \r\nL 114.680831 202.899943 \r\nL 117.884659 202.899943 \r\nL 121.088487 213.881761 \r\nL 124.292315 213.881761 \r\nL 127.496142 213.881761 \r\nL 130.69997 213.881761 \r\nL 133.903798 213.881761 \r\nL 137.107626 213.881761 \r\nL 140.311453 213.881761 \r\nL 143.515281 213.881761 \r\nL 146.719109 213.881761 \r\nL 149.922937 213.881761 \r\nL 153.126764 213.881761 \r\nL 156.330592 213.881761 \r\nL 159.53442 219.37267 \r\nL 162.738248 219.37267 \r\nL 165.942075 219.37267 \r\nL 169.145903 219.37267 \r\nL 172.349731 219.37267 \r\nL 175.553559 219.37267 \r\nL 178.757386 219.37267 \r\nL 181.961214 219.37267 \r\nL 185.165042 219.37267 \r\nL 188.36887 219.37267 \r\nL 191.572697 219.37267 \r\nL 194.776525 219.37267 \r\nL 197.980353 224.86358 \r\nL 201.184181 224.86358 \r\nL 204.388008 224.86358 \r\nL 207.591836 224.86358 \r\nL 210.795664 224.86358 \r\nL 213.999492 224.86358 \r\nL 217.203319 224.86358 \r\nL 220.407147 224.86358 \r\nL 223.610975 224.86358 \r\nL 226.814803 224.86358 \r\nL 230.01863 224.86358 \r\nL 233.222458 230.354489 \r\nL 236.426286 230.354489 \r\nL 239.630114 230.354489 \r\nL 242.833941 230.354489 \r\nL 246.037769 230.354489 \r\nL 249.241597 230.354489 \r\nL 252.445425 230.354489 \r\nL 255.649252 230.354489 \r\nL 258.85308 230.354489 \r\nL 262.056908 230.354489 \r\nL 265.260736 230.354489 \r\nL 268.464563 230.354489 \r\nL 271.668391 230.354489 \r\nL 274.872219 230.354489 \r\nL 278.076047 230.354489 \r\nL 281.279874 230.354489 \r\nL 284.483702 230.354489 \r\nL 287.68753 230.354489 \r\nL 290.891358 230.354489 \r\nL 294.095185 230.354489 \r\nL 297.299013 230.354489 \r\nL 300.502841 230.354489 \r\nL 303.706669 230.354489 \r\nL 306.910496 230.354489 \r\nL 310.114324 230.354489 \r\nL 313.318152 230.354489 \r\nL 316.52198 230.354489 \r\nL 319.725807 230.354489 \r\nL 322.929635 230.354489 \r\nL 326.133463 230.354489 \r\nL 329.337291 230.354489 \r\nL 332.541118 230.354489 \r\nL 335.744946 230.354489 \r\nL 338.948774 230.354489 \r\nL 342.152602 230.354489 \r\nL 345.356429 230.354489 \r\nL 348.560257 230.354489 \r\nL 351.764085 230.354489 \r\nL 354.967913 230.354489 \r\nL 358.17174 230.354489 \r\nL 361.375568 230.354489 \r\n\" style=\"fill:none;stroke:#1f77b4;stroke-linecap:square;stroke-width:1.5;\"/>\r\n   </g>\r\n   <g id=\"patch_3\">\r\n    <path d=\"M 41.79375 240.238125 \r\nL 41.79375 22.798125 \r\n\" style=\"fill:none;stroke:#000000;stroke-linecap:square;stroke-linejoin:miter;stroke-width:0.8;\"/>\r\n   </g>\r\n   <g id=\"patch_4\">\r\n    <path d=\"M 376.59375 240.238125 \r\nL 376.59375 22.798125 \r\n\" style=\"fill:none;stroke:#000000;stroke-linecap:square;stroke-linejoin:miter;stroke-width:0.8;\"/>\r\n   </g>\r\n   <g id=\"patch_5\">\r\n    <path d=\"M 41.79375 240.238125 \r\nL 376.59375 240.238125 \r\n\" style=\"fill:none;stroke:#000000;stroke-linecap:square;stroke-linejoin:miter;stroke-width:0.8;\"/>\r\n   </g>\r\n   <g id=\"patch_6\">\r\n    <path d=\"M 41.79375 22.798125 \r\nL 376.59375 22.798125 \r\n\" style=\"fill:none;stroke:#000000;stroke-linecap:square;stroke-linejoin:miter;stroke-width:0.8;\"/>\r\n   </g>\r\n   <g id=\"text_16\">\r\n    <!-- Experimento día/tarde/noche -->\r\n    <g transform=\"translate(110.8575 16.798125)scale(0.12 -0.12)\">\r\n     <defs>\r\n      <path d=\"M 9.1875 72.90625 \r\nL 59.90625 72.90625 \r\nL 59.90625 58.6875 \r\nL 27.984375 58.6875 \r\nL 27.984375 45.125 \r\nL 58.015625 45.125 \r\nL 58.015625 30.90625 \r\nL 27.984375 30.90625 \r\nL 27.984375 14.203125 \r\nL 60.984375 14.203125 \r\nL 60.984375 0 \r\nL 9.1875 0 \r\nz\r\n\" id=\"DejaVuSans-Bold-69\"/>\r\n      <path d=\"M 22.21875 27.984375 \r\nL 2.484375 54.6875 \r\nL 21 54.6875 \r\nL 32.171875 38.484375 \r\nL 43.5 54.6875 \r\nL 62.015625 54.6875 \r\nL 42.28125 28.078125 \r\nL 62.984375 0 \r\nL 44.484375 0 \r\nL 32.171875 17.28125 \r\nL 20.015625 0 \r\nL 1.515625 0 \r\nz\r\n\" id=\"DejaVuSans-Bold-120\"/>\r\n      <path d=\"M 8.40625 54.6875 \r\nL 25.875 54.6875 \r\nL 25.875 0 \r\nL 8.40625 0 \r\nz\r\nM 8.40625 75.984375 \r\nL 25.875 75.984375 \r\nL 25.875 61.71875 \r\nL 8.40625 61.71875 \r\nz\r\n\" id=\"DejaVuSans-Bold-105\"/>\r\n      <path id=\"DejaVuSans-Bold-32\"/>\r\n      <path d=\"M 45.609375 46.6875 \r\nL 45.609375 75.984375 \r\nL 63.1875 75.984375 \r\nL 63.1875 0 \r\nL 45.609375 0 \r\nL 45.609375 7.90625 \r\nQ 42 3.078125 37.640625 0.828125 \r\nQ 33.296875 -1.421875 27.59375 -1.421875 \r\nQ 17.484375 -1.421875 10.984375 6.609375 \r\nQ 4.5 14.65625 4.5 27.296875 \r\nQ 4.5 39.9375 10.984375 47.96875 \r\nQ 17.484375 56 27.59375 56 \r\nQ 33.25 56 37.625 53.734375 \r\nQ 42 51.46875 45.609375 46.6875 \r\nz\r\nM 34.078125 11.28125 \r\nQ 39.703125 11.28125 42.65625 15.375 \r\nQ 45.609375 19.484375 45.609375 27.296875 \r\nQ 45.609375 35.109375 42.65625 39.203125 \r\nQ 39.703125 43.3125 34.078125 43.3125 \r\nQ 28.515625 43.3125 25.5625 39.203125 \r\nQ 22.609375 35.109375 22.609375 27.296875 \r\nQ 22.609375 19.484375 25.5625 15.375 \r\nQ 28.515625 11.28125 34.078125 11.28125 \r\nz\r\n\" id=\"DejaVuSans-Bold-100\"/>\r\n      <path d=\"M 8.40625 54.6875 \r\nL 25.875 54.6875 \r\nL 25.875 0 \r\nL 8.40625 0 \r\nz\r\nM 24.90625 79.984375 \r\nL 38.71875 79.984375 \r\nL 20.703125 61.625 \r\nL 11.140625 61.625 \r\nz\r\n\" id=\"DejaVuSans-Bold-237\"/>\r\n      <path d=\"M 25.6875 72.90625 \r\nL 36.53125 72.90625 \r\nL 10.796875 -9.28125 \r\nL 0 -9.28125 \r\nz\r\n\" id=\"DejaVuSans-Bold-47\"/>\r\n      <path d=\"M 52.59375 52.984375 \r\nL 52.59375 38.71875 \r\nQ 49.03125 41.15625 45.4375 42.328125 \r\nQ 41.84375 43.5 37.984375 43.5 \r\nQ 30.671875 43.5 26.59375 39.234375 \r\nQ 22.515625 34.96875 22.515625 27.296875 \r\nQ 22.515625 19.625 26.59375 15.34375 \r\nQ 30.671875 11.078125 37.984375 11.078125 \r\nQ 42.09375 11.078125 45.78125 12.296875 \r\nQ 49.46875 13.53125 52.59375 15.921875 \r\nL 52.59375 1.609375 \r\nQ 48.484375 0.09375 44.265625 -0.65625 \r\nQ 40.046875 -1.421875 35.796875 -1.421875 \r\nQ 21 -1.421875 12.640625 6.171875 \r\nQ 4.296875 13.765625 4.296875 27.296875 \r\nQ 4.296875 40.828125 12.640625 48.40625 \r\nQ 21 56 35.796875 56 \r\nQ 40.09375 56 44.265625 55.25 \r\nQ 48.4375 54.5 52.59375 52.984375 \r\nz\r\n\" id=\"DejaVuSans-Bold-99\"/>\r\n      <path d=\"M 63.375 33.296875 \r\nL 63.375 0 \r\nL 45.796875 0 \r\nL 45.796875 5.421875 \r\nL 45.796875 25.390625 \r\nQ 45.796875 32.5625 45.484375 35.25 \r\nQ 45.171875 37.9375 44.390625 39.203125 \r\nQ 43.359375 40.921875 41.59375 41.875 \r\nQ 39.84375 42.828125 37.59375 42.828125 \r\nQ 32.125 42.828125 29 38.59375 \r\nQ 25.875 34.375 25.875 26.90625 \r\nL 25.875 0 \r\nL 8.40625 0 \r\nL 8.40625 75.984375 \r\nL 25.875 75.984375 \r\nL 25.875 46.6875 \r\nQ 29.828125 51.46875 34.265625 53.734375 \r\nQ 38.71875 56 44.09375 56 \r\nQ 53.5625 56 58.46875 50.1875 \r\nQ 63.375 44.390625 63.375 33.296875 \r\nz\r\n\" id=\"DejaVuSans-Bold-104\"/>\r\n     </defs>\r\n     <use xlink:href=\"#DejaVuSans-Bold-69\"/>\r\n     <use x=\"68.310547\" xlink:href=\"#DejaVuSans-Bold-120\"/>\r\n     <use x=\"132.8125\" xlink:href=\"#DejaVuSans-Bold-112\"/>\r\n     <use x=\"204.394531\" xlink:href=\"#DejaVuSans-Bold-101\"/>\r\n     <use x=\"272.216797\" xlink:href=\"#DejaVuSans-Bold-114\"/>\r\n     <use x=\"321.533203\" xlink:href=\"#DejaVuSans-Bold-105\"/>\r\n     <use x=\"355.810547\" xlink:href=\"#DejaVuSans-Bold-109\"/>\r\n     <use x=\"460.009766\" xlink:href=\"#DejaVuSans-Bold-101\"/>\r\n     <use x=\"527.832031\" xlink:href=\"#DejaVuSans-Bold-110\"/>\r\n     <use x=\"599.023438\" xlink:href=\"#DejaVuSans-Bold-116\"/>\r\n     <use x=\"646.826172\" xlink:href=\"#DejaVuSans-Bold-111\"/>\r\n     <use x=\"715.527344\" xlink:href=\"#DejaVuSans-Bold-32\"/>\r\n     <use x=\"750.341797\" xlink:href=\"#DejaVuSans-Bold-100\"/>\r\n     <use x=\"821.923828\" xlink:href=\"#DejaVuSans-Bold-237\"/>\r\n     <use x=\"856.201172\" xlink:href=\"#DejaVuSans-Bold-97\"/>\r\n     <use x=\"923.681641\" xlink:href=\"#DejaVuSans-Bold-47\"/>\r\n     <use x=\"960.205078\" xlink:href=\"#DejaVuSans-Bold-116\"/>\r\n     <use x=\"1008.007812\" xlink:href=\"#DejaVuSans-Bold-97\"/>\r\n     <use x=\"1075.488281\" xlink:href=\"#DejaVuSans-Bold-114\"/>\r\n     <use x=\"1124.804688\" xlink:href=\"#DejaVuSans-Bold-100\"/>\r\n     <use x=\"1196.386719\" xlink:href=\"#DejaVuSans-Bold-101\"/>\r\n     <use x=\"1264.208984\" xlink:href=\"#DejaVuSans-Bold-47\"/>\r\n     <use x=\"1300.732422\" xlink:href=\"#DejaVuSans-Bold-110\"/>\r\n     <use x=\"1371.923828\" xlink:href=\"#DejaVuSans-Bold-111\"/>\r\n     <use x=\"1440.625\" xlink:href=\"#DejaVuSans-Bold-99\"/>\r\n     <use x=\"1499.902344\" xlink:href=\"#DejaVuSans-Bold-104\"/>\r\n     <use x=\"1571.09375\" xlink:href=\"#DejaVuSans-Bold-101\"/>\r\n    </g>\r\n   </g>\r\n  </g>\r\n </g>\r\n <defs>\r\n  <clipPath id=\"p6d5a6e7135\">\r\n   <rect height=\"217.44\" width=\"334.8\" x=\"41.79375\" y=\"22.798125\"/>\r\n  </clipPath>\r\n </defs>\r\n</svg>\r\n",
            "image/png": "[encoded data removed]"
          },
          "metadata": {
            "tags": [],
            "needs_background": "light"
          }
        }
      ]
    },
    {
      "cell_type": "markdown",
      "metadata": {
        "id": "mFb4cHijbgPt"
      },
      "source": [
        "Obtener los patrones frecuentes"
      ]
    },
    {
      "cell_type": "code",
      "metadata": {
        "colab": {
          "base_uri": "https://localhost:8080/"
        },
        "id": "N1YhXEALfjnV",
        "outputId": "595c28b4-e40c-4fd3-967b-55dded376e08"
      },
      "source": [
        "patrones = ex1.patrones_umbral(0.06)\r\n",
        "patrones['casos'] = patrones['support']*800000\r\n",
        "patrones['support'] = patrones['support']*100\r\n",
        "print(patrones)"
      ],
      "execution_count": null,
      "outputs": [
        {
          "output_type": "stream",
          "text": [
            "      support                                 itemsets          casos\n",
            "0    6.357750   (delitos_ROBO A NEGOCIO SIN VIOLENCIA)   50862.003954\n",
            "1    6.455170                (delitos_ROBO DE OBJETOS)   51641.361849\n",
            "2    8.594325             (delitos_VIOLENCIA FAMILIAR)   68754.597457\n",
            "3    6.498935                (alcaldia_ALVARO OBREGON)   51991.479482\n",
            "4    8.728091                 (alcaldia_BENITO JUAREZ)   69824.731014\n",
            "5    6.705025                      (alcaldia_COYOACAN)   53640.197263\n",
            "6   16.244494                    (alcaldia_CUAUHTEMOC)  129955.950949\n",
            "7    9.902321              (alcaldia_GUSTAVO A MADERO)   79218.565136\n",
            "8   14.826344                    (alcaldia_IZTAPALAPA)  118610.754991\n",
            "9    6.637400                (alcaldia_MIGUEL HIDALGO)   53099.196287\n",
            "10  34.976653                               (hora_dia)  279813.221144\n",
            "11  65.023347                             (hora_noche)  520186.778856\n",
            "12  59.020289                               (tden_dia)  472162.310183\n",
            "13  15.738233                               (tden_inf)  125905.861380\n",
            "14  10.161447                               (tden_mes)   81291.578014\n",
            "15  15.080031                               (tden_sem)  120640.250423\n",
            "16  10.733603        (alcaldia_CUAUHTEMOC, hora_noche)   85868.822099\n",
            "17   8.891529          (alcaldia_CUAUHTEMOC, tden_dia)   71132.232457\n",
            "18   6.407820  (hora_noche, alcaldia_GUSTAVO A MADERO)   51262.562263\n",
            "19   6.238078    (tden_dia, alcaldia_GUSTAVO A MADERO)   49904.620143\n",
            "20   9.478644        (alcaldia_IZTAPALAPA, hora_noche)   75829.149518\n",
            "21   9.259573          (alcaldia_IZTAPALAPA, tden_dia)   74076.583287\n",
            "22  21.273231                     (hora_dia, tden_dia)  170185.851638\n",
            "23  37.747057                   (hora_noche, tden_dia)  301976.458545\n",
            "24  10.735952                   (hora_noche, tden_inf)   85887.613723\n",
            "25   6.722951                   (hora_noche, tden_mes)   53783.607028\n",
            "26   9.817387                   (hora_noche, tden_sem)   78539.099560\n"
          ],
          "name": "stdout"
        }
      ]
    },
    {
      "cell_type": "code",
      "metadata": {
        "colab": {
          "base_uri": "https://localhost:8080/"
        },
        "id": "swD2YVEfbjGz",
        "outputId": "f28123d3-31d3-4256-a69a-44b72f7de8b7"
      },
      "source": [
        "patrones1 = ex1_1.patrones_umbral(0.06)\r\n",
        "patrones1['casos'] = patrones1['support']*800000\r\n",
        "patrones1['support'] = patrones1['support']*100\r\n",
        "print(patrones1)"
      ],
      "execution_count": null,
      "outputs": [
        {
          "output_type": "stream",
          "text": [
            "      support                                itemsets          casos\n",
            "0    6.357750  (delitos_ROBO A NEGOCIO SIN VIOLENCIA)   50862.003954\n",
            "1    6.455170               (delitos_ROBO DE OBJETOS)   51641.361849\n",
            "2    8.594325            (delitos_VIOLENCIA FAMILIAR)   68754.597457\n",
            "3    6.498935               (alcaldia_ALVARO OBREGON)   51991.479482\n",
            "4    8.728091                (alcaldia_BENITO JUAREZ)   69824.731014\n",
            "5    6.705025                     (alcaldia_COYOACAN)   53640.197263\n",
            "6   16.244494                   (alcaldia_CUAUHTEMOC)  129955.950949\n",
            "7    9.902321             (alcaldia_GUSTAVO A MADERO)   79218.565136\n",
            "8   14.826344                   (alcaldia_IZTAPALAPA)  118610.754991\n",
            "9    6.637400               (alcaldia_MIGUEL HIDALGO)   53099.196287\n",
            "10  15.250269                              (hora_dia)  122002.148674\n",
            "11  36.436960                            (hora_noche)  291495.677308\n",
            "12  48.312772                            (hora_tarde)  386502.174018\n",
            "13  59.020289                              (tden_dia)  472162.310183\n",
            "14  15.738233                              (tden_inf)  125905.861380\n",
            "15  10.161447                              (tden_mes)   81291.578014\n",
            "16  15.080031                              (tden_sem)  120640.250423\n",
            "17   8.821060       (alcaldia_CUAUHTEMOC, hora_tarde)   70568.483726\n",
            "18   8.891529         (alcaldia_CUAUHTEMOC, tden_dia)   71132.232457\n",
            "19   6.238078   (tden_dia, alcaldia_GUSTAVO A MADERO)   49904.620143\n",
            "20   6.593388       (alcaldia_IZTAPALAPA, hora_tarde)   52747.100588\n",
            "21   9.259573         (alcaldia_IZTAPALAPA, tden_dia)   74076.583287\n",
            "22  10.365188                    (hora_dia, tden_dia)   82921.504171\n",
            "23  24.142539                  (hora_noche, tden_dia)  193140.315328\n",
            "24  24.512561                  (tden_dia, hora_tarde)  196100.490684\n",
            "25  10.878249                  (hora_tarde, tden_inf)   87025.990547\n",
            "26   7.209802                  (tden_sem, hora_tarde)   57678.418438\n"
          ],
          "name": "stdout"
        }
      ]
    },
    {
      "cell_type": "markdown",
      "metadata": {
        "id": "A5V6Fuk4e78K"
      },
      "source": [
        "Obtenemos las reglas de asosiacion"
      ]
    },
    {
      "cell_type": "code",
      "metadata": {
        "colab": {
          "base_uri": "https://localhost:8080/",
          "height": 421
        },
        "id": "MCxzhYVef3_X",
        "outputId": "4f25fc40-084b-4853-953f-539cafc399e5"
      },
      "source": [
        "reglas=association_rules(ex1.patrones_umbral(.06), metric=\"confidence\", min_threshold=0.5)\r\n",
        "reglas = reglas.drop(columns=['antecedent support','consequent support','support','lift','leverage','conviction'])\r\n",
        "reglas['confidence'] = reglas['confidence']*100\r\n",
        "reglas"
      ],
      "execution_count": null,
      "outputs": [
        {
          "output_type": "execute_result",
          "data": {
            "text/html": [
              "<div>\n",
              "<style scoped>\n",
              "    .dataframe tbody tr th:only-of-type {\n",
              "        vertical-align: middle;\n",
              "    }\n",
              "\n",
              "    .dataframe tbody tr th {\n",
              "        vertical-align: top;\n",
              "    }\n",
              "\n",
              "    .dataframe thead th {\n",
              "        text-align: right;\n",
              "    }\n",
              "</style>\n",
              "<table border=\"1\" class=\"dataframe\">\n",
              "  <thead>\n",
              "    <tr style=\"text-align: right;\">\n",
              "      <th></th>\n",
              "      <th>antecedents</th>\n",
              "      <th>consequents</th>\n",
              "      <th>confidence</th>\n",
              "    </tr>\n",
              "  </thead>\n",
              "  <tbody>\n",
              "    <tr>\n",
              "      <th>0</th>\n",
              "      <td>(alcaldia_CUAUHTEMOC)</td>\n",
              "      <td>(hora_noche)</td>\n",
              "      <td>66.075329</td>\n",
              "    </tr>\n",
              "    <tr>\n",
              "      <th>1</th>\n",
              "      <td>(alcaldia_CUAUHTEMOC)</td>\n",
              "      <td>(tden_dia)</td>\n",
              "      <td>54.735648</td>\n",
              "    </tr>\n",
              "    <tr>\n",
              "      <th>2</th>\n",
              "      <td>(alcaldia_GUSTAVO A MADERO)</td>\n",
              "      <td>(hora_noche)</td>\n",
              "      <td>64.710289</td>\n",
              "    </tr>\n",
              "    <tr>\n",
              "      <th>3</th>\n",
              "      <td>(alcaldia_GUSTAVO A MADERO)</td>\n",
              "      <td>(tden_dia)</td>\n",
              "      <td>62.996117</td>\n",
              "    </tr>\n",
              "    <tr>\n",
              "      <th>4</th>\n",
              "      <td>(alcaldia_IZTAPALAPA)</td>\n",
              "      <td>(hora_noche)</td>\n",
              "      <td>63.931091</td>\n",
              "    </tr>\n",
              "    <tr>\n",
              "      <th>5</th>\n",
              "      <td>(alcaldia_IZTAPALAPA)</td>\n",
              "      <td>(tden_dia)</td>\n",
              "      <td>62.453513</td>\n",
              "    </tr>\n",
              "    <tr>\n",
              "      <th>6</th>\n",
              "      <td>(hora_dia)</td>\n",
              "      <td>(tden_dia)</td>\n",
              "      <td>60.821233</td>\n",
              "    </tr>\n",
              "    <tr>\n",
              "      <th>7</th>\n",
              "      <td>(hora_noche)</td>\n",
              "      <td>(tden_dia)</td>\n",
              "      <td>58.051544</td>\n",
              "    </tr>\n",
              "    <tr>\n",
              "      <th>8</th>\n",
              "      <td>(tden_dia)</td>\n",
              "      <td>(hora_noche)</td>\n",
              "      <td>63.956070</td>\n",
              "    </tr>\n",
              "    <tr>\n",
              "      <th>9</th>\n",
              "      <td>(tden_inf)</td>\n",
              "      <td>(hora_noche)</td>\n",
              "      <td>68.215739</td>\n",
              "    </tr>\n",
              "    <tr>\n",
              "      <th>10</th>\n",
              "      <td>(tden_mes)</td>\n",
              "      <td>(hora_noche)</td>\n",
              "      <td>66.161352</td>\n",
              "    </tr>\n",
              "    <tr>\n",
              "      <th>11</th>\n",
              "      <td>(tden_sem)</td>\n",
              "      <td>(hora_noche)</td>\n",
              "      <td>65.101904</td>\n",
              "    </tr>\n",
              "  </tbody>\n",
              "</table>\n",
              "</div>"
            ],
            "text/plain": [
              "                    antecedents   consequents  confidence\n",
              "0         (alcaldia_CUAUHTEMOC)  (hora_noche)   66.075329\n",
              "1         (alcaldia_CUAUHTEMOC)    (tden_dia)   54.735648\n",
              "2   (alcaldia_GUSTAVO A MADERO)  (hora_noche)   64.710289\n",
              "3   (alcaldia_GUSTAVO A MADERO)    (tden_dia)   62.996117\n",
              "4         (alcaldia_IZTAPALAPA)  (hora_noche)   63.931091\n",
              "5         (alcaldia_IZTAPALAPA)    (tden_dia)   62.453513\n",
              "6                    (hora_dia)    (tden_dia)   60.821233\n",
              "7                  (hora_noche)    (tden_dia)   58.051544\n",
              "8                    (tden_dia)  (hora_noche)   63.956070\n",
              "9                    (tden_inf)  (hora_noche)   68.215739\n",
              "10                   (tden_mes)  (hora_noche)   66.161352\n",
              "11                   (tden_sem)  (hora_noche)   65.101904"
            ]
          },
          "metadata": {
            "tags": []
          },
          "execution_count": 9
        }
      ]
    },
    {
      "cell_type": "code",
      "metadata": {
        "colab": {
          "base_uri": "https://localhost:8080/",
          "height": 297
        },
        "id": "gIn6h7tidKCc",
        "outputId": "addc36f9-b684-4baf-d5bb-f40fd5ac6b1a"
      },
      "source": [
        "reglas1=association_rules(ex1_1.patrones_umbral(.06), metric=\"confidence\", min_threshold=0.5)\r\n",
        "reglas1 = reglas1.drop(columns=['antecedent support','consequent support','support','lift','leverage','conviction'])\r\n",
        "reglas1['confidence'] = reglas1['confidence']*100\r\n",
        "reglas1"
      ],
      "execution_count": null,
      "outputs": [
        {
          "output_type": "execute_result",
          "data": {
            "text/html": [
              "<div>\n",
              "<style scoped>\n",
              "    .dataframe tbody tr th:only-of-type {\n",
              "        vertical-align: middle;\n",
              "    }\n",
              "\n",
              "    .dataframe tbody tr th {\n",
              "        vertical-align: top;\n",
              "    }\n",
              "\n",
              "    .dataframe thead th {\n",
              "        text-align: right;\n",
              "    }\n",
              "</style>\n",
              "<table border=\"1\" class=\"dataframe\">\n",
              "  <thead>\n",
              "    <tr style=\"text-align: right;\">\n",
              "      <th></th>\n",
              "      <th>antecedents</th>\n",
              "      <th>consequents</th>\n",
              "      <th>confidence</th>\n",
              "    </tr>\n",
              "  </thead>\n",
              "  <tbody>\n",
              "    <tr>\n",
              "      <th>0</th>\n",
              "      <td>(alcaldia_CUAUHTEMOC)</td>\n",
              "      <td>(hora_tarde)</td>\n",
              "      <td>54.301849</td>\n",
              "    </tr>\n",
              "    <tr>\n",
              "      <th>1</th>\n",
              "      <td>(alcaldia_CUAUHTEMOC)</td>\n",
              "      <td>(tden_dia)</td>\n",
              "      <td>54.735648</td>\n",
              "    </tr>\n",
              "    <tr>\n",
              "      <th>2</th>\n",
              "      <td>(alcaldia_GUSTAVO A MADERO)</td>\n",
              "      <td>(tden_dia)</td>\n",
              "      <td>62.996117</td>\n",
              "    </tr>\n",
              "    <tr>\n",
              "      <th>3</th>\n",
              "      <td>(alcaldia_IZTAPALAPA)</td>\n",
              "      <td>(tden_dia)</td>\n",
              "      <td>62.453513</td>\n",
              "    </tr>\n",
              "    <tr>\n",
              "      <th>4</th>\n",
              "      <td>(hora_dia)</td>\n",
              "      <td>(tden_dia)</td>\n",
              "      <td>67.967249</td>\n",
              "    </tr>\n",
              "    <tr>\n",
              "      <th>5</th>\n",
              "      <td>(hora_noche)</td>\n",
              "      <td>(tden_dia)</td>\n",
              "      <td>66.258381</td>\n",
              "    </tr>\n",
              "    <tr>\n",
              "      <th>6</th>\n",
              "      <td>(hora_tarde)</td>\n",
              "      <td>(tden_dia)</td>\n",
              "      <td>50.737228</td>\n",
              "    </tr>\n",
              "    <tr>\n",
              "      <th>7</th>\n",
              "      <td>(tden_inf)</td>\n",
              "      <td>(hora_tarde)</td>\n",
              "      <td>69.119888</td>\n",
              "    </tr>\n",
              "  </tbody>\n",
              "</table>\n",
              "</div>"
            ],
            "text/plain": [
              "                   antecedents   consequents  confidence\n",
              "0        (alcaldia_CUAUHTEMOC)  (hora_tarde)   54.301849\n",
              "1        (alcaldia_CUAUHTEMOC)    (tden_dia)   54.735648\n",
              "2  (alcaldia_GUSTAVO A MADERO)    (tden_dia)   62.996117\n",
              "3        (alcaldia_IZTAPALAPA)    (tden_dia)   62.453513\n",
              "4                   (hora_dia)    (tden_dia)   67.967249\n",
              "5                 (hora_noche)    (tden_dia)   66.258381\n",
              "6                 (hora_tarde)    (tden_dia)   50.737228\n",
              "7                   (tden_inf)  (hora_tarde)   69.119888"
            ]
          },
          "metadata": {
            "tags": []
          },
          "execution_count": 10
        }
      ]
    },
    {
      "cell_type": "markdown",
      "metadata": {
        "id": "YsUuPC98dv1A"
      },
      "source": [
        "##Analisis a solo un delito"
      ]
    },
    {
      "cell_type": "markdown",
      "metadata": {
        "id": "tCUVl2zIeH5W"
      },
      "source": [
        "creamos el dataset y vemos cuantos registros tiene"
      ]
    },
    {
      "cell_type": "code",
      "metadata": {
        "colab": {
          "base_uri": "https://localhost:8080/"
        },
        "id": "suJL_LPUdyce",
        "outputId": "30ab9e3f-bcc6-4b1f-de97-a95e0ffd6e1a"
      },
      "source": [
        "fraudeData=data[data['delito'] == 'FRAUDE']\r\n",
        "fraudeData.index=[i for i in range(len(fraudeData['delito']))]\r\n",
        "print(len(fraudeData.index))"
      ],
      "execution_count": 6,
      "outputs": [
        {
          "output_type": "stream",
          "text": [
            "45349\n"
          ],
          "name": "stdout"
        }
      ]
    },
    {
      "cell_type": "markdown",
      "metadata": {
        "id": "-41TtABW2clD"
      },
      "source": [
        "Hacemos una grafica de umbrales"
      ]
    },
    {
      "cell_type": "code",
      "metadata": {
        "colab": {
          "base_uri": "https://localhost:8080/"
        },
        "id": "cK2_fsLZ2gBf",
        "outputId": "808e2878-7f80-4605-c2ab-644fa15e8f85"
      },
      "source": [
        "fraudes=experimentoDiaNoche(fraudeData)"
      ],
      "execution_count": 7,
      "outputs": [
        {
          "output_type": "stream",
          "text": [
            "Hora hechos\n",
            "Tiempo denuncia\n",
            "Dummies\n"
          ],
          "name": "stdout"
        }
      ]
    },
    {
      "cell_type": "code",
      "metadata": {
        "colab": {
          "base_uri": "https://localhost:8080/",
          "height": 295
        },
        "id": "Eau5vniR3GR-",
        "outputId": "1a604ff1-062c-4d55-cd2d-41078cdcc3b2"
      },
      "source": [
        "fraudes.grafica_umbrales()"
      ],
      "execution_count": 8,
      "outputs": [
        {
          "output_type": "display_data",
          "data": {
            "image/png": "[encoded data removed]",
            "text/plain": [
              "<Figure size 432x288 with 1 Axes>"
            ]
          },
          "metadata": {
            "tags": [],
            "needs_background": "light"
          }
        }
      ]
    },
    {
      "cell_type": "markdown",
      "metadata": {
        "id": "gPFmykG2eT-v"
      },
      "source": [
        "sacamos los patrones"
      ]
    },
    {
      "cell_type": "code",
      "metadata": {
        "colab": {
          "base_uri": "https://localhost:8080/",
          "height": 317
        },
        "id": "Imc3YSFXeBpS",
        "outputId": "ed2fb62d-6de8-479e-f6a1-c8c8f2ae3255"
      },
      "source": [
        "fraudes.patrones_umbral(0.30)"
      ],
      "execution_count": null,
      "outputs": [
        {
          "output_type": "stream",
          "text": [
            "Hora hechos\n",
            "Tiempo denuncia\n",
            "Dummies\n"
          ],
          "name": "stdout"
        },
        {
          "output_type": "execute_result",
          "data": {
            "text/html": [
              "<div>\n",
              "<style scoped>\n",
              "    .dataframe tbody tr th:only-of-type {\n",
              "        vertical-align: middle;\n",
              "    }\n",
              "\n",
              "    .dataframe tbody tr th {\n",
              "        vertical-align: top;\n",
              "    }\n",
              "\n",
              "    .dataframe thead th {\n",
              "        text-align: right;\n",
              "    }\n",
              "</style>\n",
              "<table border=\"1\" class=\"dataframe\">\n",
              "  <thead>\n",
              "    <tr style=\"text-align: right;\">\n",
              "      <th></th>\n",
              "      <th>support</th>\n",
              "      <th>itemsets</th>\n",
              "    </tr>\n",
              "  </thead>\n",
              "  <tbody>\n",
              "    <tr>\n",
              "      <th>0</th>\n",
              "      <td>1.000000</td>\n",
              "      <td>(delitos_FRAUDE)</td>\n",
              "    </tr>\n",
              "    <tr>\n",
              "      <th>1</th>\n",
              "      <td>0.742729</td>\n",
              "      <td>(hora_noche)</td>\n",
              "    </tr>\n",
              "    <tr>\n",
              "      <th>2</th>\n",
              "      <td>0.539020</td>\n",
              "      <td>(tden_inf)</td>\n",
              "    </tr>\n",
              "    <tr>\n",
              "      <th>3</th>\n",
              "      <td>0.742729</td>\n",
              "      <td>(hora_noche, delitos_FRAUDE)</td>\n",
              "    </tr>\n",
              "    <tr>\n",
              "      <th>4</th>\n",
              "      <td>0.539020</td>\n",
              "      <td>(tden_inf, delitos_FRAUDE)</td>\n",
              "    </tr>\n",
              "    <tr>\n",
              "      <th>5</th>\n",
              "      <td>0.402170</td>\n",
              "      <td>(hora_noche, tden_inf)</td>\n",
              "    </tr>\n",
              "    <tr>\n",
              "      <th>6</th>\n",
              "      <td>0.402170</td>\n",
              "      <td>(hora_noche, tden_inf, delitos_FRAUDE)</td>\n",
              "    </tr>\n",
              "  </tbody>\n",
              "</table>\n",
              "</div>"
            ],
            "text/plain": [
              "    support                                itemsets\n",
              "0  1.000000                        (delitos_FRAUDE)\n",
              "1  0.742729                            (hora_noche)\n",
              "2  0.539020                              (tden_inf)\n",
              "3  0.742729            (hora_noche, delitos_FRAUDE)\n",
              "4  0.539020              (tden_inf, delitos_FRAUDE)\n",
              "5  0.402170                  (hora_noche, tden_inf)\n",
              "6  0.402170  (hora_noche, tden_inf, delitos_FRAUDE)"
            ]
          },
          "metadata": {
            "tags": []
          },
          "execution_count": 12
        }
      ]
    },
    {
      "cell_type": "markdown",
      "metadata": {
        "id": "bhxPbtbZeZs-"
      },
      "source": [
        "obtenemos las reglas de asosiacion"
      ]
    },
    {
      "cell_type": "code",
      "metadata": {
        "colab": {
          "base_uri": "https://localhost:8080/",
          "height": 390
        },
        "id": "igsALQKVeQNr",
        "outputId": "45cfef74-0225-41a6-fa5a-187865eb1997"
      },
      "source": [
        "reglas_fraude = association_rules(fraudes.patrones_umbral(.3), metric=\"confidence\", min_threshold=0.5)\r\n",
        "reglas_fraude = reglas_fraude.drop(columns=['antecedent support','consequent support','support','lift','leverage','conviction'])\r\n",
        "reglas_fraude['confidence'] = reglas_fraude['confidence']*100\r\n",
        "reglas_fraude"
      ],
      "execution_count": null,
      "outputs": [
        {
          "output_type": "execute_result",
          "data": {
            "text/html": [
              "<div>\n",
              "<style scoped>\n",
              "    .dataframe tbody tr th:only-of-type {\n",
              "        vertical-align: middle;\n",
              "    }\n",
              "\n",
              "    .dataframe tbody tr th {\n",
              "        vertical-align: top;\n",
              "    }\n",
              "\n",
              "    .dataframe thead th {\n",
              "        text-align: right;\n",
              "    }\n",
              "</style>\n",
              "<table border=\"1\" class=\"dataframe\">\n",
              "  <thead>\n",
              "    <tr style=\"text-align: right;\">\n",
              "      <th></th>\n",
              "      <th>antecedents</th>\n",
              "      <th>consequents</th>\n",
              "      <th>confidence</th>\n",
              "    </tr>\n",
              "  </thead>\n",
              "  <tbody>\n",
              "    <tr>\n",
              "      <th>0</th>\n",
              "      <td>(hora_noche)</td>\n",
              "      <td>(delitos_FRAUDE)</td>\n",
              "      <td>100.000000</td>\n",
              "    </tr>\n",
              "    <tr>\n",
              "      <th>1</th>\n",
              "      <td>(delitos_FRAUDE)</td>\n",
              "      <td>(hora_noche)</td>\n",
              "      <td>74.272862</td>\n",
              "    </tr>\n",
              "    <tr>\n",
              "      <th>2</th>\n",
              "      <td>(tden_inf)</td>\n",
              "      <td>(delitos_FRAUDE)</td>\n",
              "      <td>100.000000</td>\n",
              "    </tr>\n",
              "    <tr>\n",
              "      <th>3</th>\n",
              "      <td>(delitos_FRAUDE)</td>\n",
              "      <td>(tden_inf)</td>\n",
              "      <td>53.901960</td>\n",
              "    </tr>\n",
              "    <tr>\n",
              "      <th>4</th>\n",
              "      <td>(hora_noche)</td>\n",
              "      <td>(tden_inf)</td>\n",
              "      <td>54.147616</td>\n",
              "    </tr>\n",
              "    <tr>\n",
              "      <th>5</th>\n",
              "      <td>(tden_inf)</td>\n",
              "      <td>(hora_noche)</td>\n",
              "      <td>74.611357</td>\n",
              "    </tr>\n",
              "    <tr>\n",
              "      <th>6</th>\n",
              "      <td>(hora_noche, tden_inf)</td>\n",
              "      <td>(delitos_FRAUDE)</td>\n",
              "      <td>100.000000</td>\n",
              "    </tr>\n",
              "    <tr>\n",
              "      <th>7</th>\n",
              "      <td>(hora_noche, delitos_FRAUDE)</td>\n",
              "      <td>(tden_inf)</td>\n",
              "      <td>54.147616</td>\n",
              "    </tr>\n",
              "    <tr>\n",
              "      <th>8</th>\n",
              "      <td>(tden_inf, delitos_FRAUDE)</td>\n",
              "      <td>(hora_noche)</td>\n",
              "      <td>74.611357</td>\n",
              "    </tr>\n",
              "    <tr>\n",
              "      <th>9</th>\n",
              "      <td>(hora_noche)</td>\n",
              "      <td>(tden_inf, delitos_FRAUDE)</td>\n",
              "      <td>54.147616</td>\n",
              "    </tr>\n",
              "    <tr>\n",
              "      <th>10</th>\n",
              "      <td>(tden_inf)</td>\n",
              "      <td>(hora_noche, delitos_FRAUDE)</td>\n",
              "      <td>74.611357</td>\n",
              "    </tr>\n",
              "  </tbody>\n",
              "</table>\n",
              "</div>"
            ],
            "text/plain": [
              "                     antecedents                   consequents  confidence\n",
              "0                   (hora_noche)              (delitos_FRAUDE)  100.000000\n",
              "1               (delitos_FRAUDE)                  (hora_noche)   74.272862\n",
              "2                     (tden_inf)              (delitos_FRAUDE)  100.000000\n",
              "3               (delitos_FRAUDE)                    (tden_inf)   53.901960\n",
              "4                   (hora_noche)                    (tden_inf)   54.147616\n",
              "5                     (tden_inf)                  (hora_noche)   74.611357\n",
              "6         (hora_noche, tden_inf)              (delitos_FRAUDE)  100.000000\n",
              "7   (hora_noche, delitos_FRAUDE)                    (tden_inf)   54.147616\n",
              "8     (tden_inf, delitos_FRAUDE)                  (hora_noche)   74.611357\n",
              "9                   (hora_noche)    (tden_inf, delitos_FRAUDE)   54.147616\n",
              "10                    (tden_inf)  (hora_noche, delitos_FRAUDE)   74.611357"
            ]
          },
          "metadata": {
            "tags": []
          },
          "execution_count": 13
        }
      ]
    },
    {
      "cell_type": "code",
      "metadata": {
        "id": "mINryAAzhwjH"
      },
      "source": [
        ""
      ],
      "execution_count": null,
      "outputs": []
    }
  ]
}